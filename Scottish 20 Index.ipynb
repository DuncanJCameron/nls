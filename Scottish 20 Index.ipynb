{
 "cells": [
  {
   "cell_type": "markdown",
   "metadata": {},
   "source": "# How have Scottish companies performed over the last 5 years?\nWe wish to create an index to track the market performance of the 20 biggest listed Scottish companies, by market capitalisation, to identify their aggregate performance over the previous five years."
  },
  {
   "cell_type": "markdown",
   "metadata": {},
   "source": "## What companies do we include?\nWe decide to include all UK listed companies headquartered in Scotland, including investment trusts. We select all Scottish companies from the FTSE 100 index, sorted by market capitalisation."
  },
  {
   "cell_type": "code",
   "execution_count": null,
   "metadata": {},
   "outputs": [],
   "source": ""
  }
 ],
 "metadata": {
  "kernelspec": {
   "display_name": "Python 3",
   "language": "python",
   "name": "python3"
  },
  "language_info": {
   "codemirror_mode": {
    "name": "ipython",
    "version": 3
   },
   "file_extension": ".py",
   "mimetype": "text/x-python",
   "name": "python",
   "nbconvert_exporter": "python",
   "pygments_lexer": "ipython3",
   "version": "3.6.9"
  }
 },
 "nbformat": 4,
 "nbformat_minor": 4
}
