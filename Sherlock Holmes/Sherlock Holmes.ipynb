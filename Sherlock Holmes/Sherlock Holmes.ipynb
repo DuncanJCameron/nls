{
 "cells": [
  {
   "cell_type": "code",
   "execution_count": 1,
   "metadata": {},
   "outputs": [],
   "source": [
    "#import required libraries\n",
    "import urllib"
   ]
  },
  {
   "cell_type": "markdown",
   "metadata": {},
   "source": [
    "# How many times does Sherlock Holmes actually say \"elementary\"?\n",
    "\"Elementary, my dear Watson\" has become a fiercly attributed quote to Holmes. There's even a television programme based on his exploits bearing the name \"Elementary\". However, some note that the phrase is not as common as we are led to believe."
   ]
  },
  {
   "cell_type": "markdown",
   "metadata": {},
   "source": [
    "## Where did Sherlock Holmes appear in literature?\n",
    "We identify four novels and some 40+ short stories, freely accessible on the <a href=\"https://www.gutenberg.org\">Project Gutenberg</a> website, that are attributed to the Sherlock Holmes canon. We load these into **Python**."
   ]
  },
  {
   "cell_type": "code",
   "execution_count": 2,
   "metadata": {},
   "outputs": [],
   "source": [
    "#names of the files we are searching\n",
    "books=[\"study\",\"sign\",\"hound\",\"valley\",\"adventures\",\"memoirs\",\"return\",\"bow\"]\n",
    "#list to store the text of the books\n",
    "text=[]\n",
    "#loop for each book\n",
    "for i in range(0,len(books)):\n",
    "    #decode file\n",
    "    book=open((books[i]+\".txt\"),\"r\",encoding='utf-8')\n",
    "    #store in list\n",
    "    text.append(book.read())\n",
    "    #close the book\n",
    "    book.close()"
   ]
  },
  {
   "cell_type": "markdown",
   "metadata": {},
   "source": [
    "## How many times did Homes say \"elementary\"?\n",
    "We now search our novels and short stories for the number of times the word was used."
   ]
  },
  {
   "cell_type": "code",
   "execution_count": 3,
   "metadata": {},
   "outputs": [
    {
     "name": "stdout",
     "output_type": "stream",
     "text": [
      "The number of times the phrase \"elementary\" appears is 7.\n"
     ]
    }
   ],
   "source": [
    "#set initial count to 0\n",
    "count=0\n",
    "#loop for each book\n",
    "for i in range(0,len(books)):\n",
    "    #lowercase to allow search\n",
    "    search=text[i].lower()\n",
    "    #add the number of times the phrase appears\n",
    "    count=count+search.count(\"elementary\")\n",
    "print(\"The number of times the phrase \\\"elementary\\\" appears is \"+str(count)+\".\")"
   ]
  },
  {
   "cell_type": "markdown",
   "metadata": {},
   "source": [
    "So, we can deduce that Holmes uses the phrase at most seven times. However, it is clear that it is not only Holmes who could have uttered this phrase. We therefore look to select text around the phrase in an attempt to assert this."
   ]
  },
  {
   "cell_type": "code",
   "execution_count": 4,
   "metadata": {},
   "outputs": [
    {
     "data": {
      "text/plain": [
       "['culties, let the enquirer begin by mastering more elementary\\nproblems. Let him, on meeting a fellow-',\n",
       " 't again with a\\nconvex lens.\\n\\n\"Interesting, though elementary,\" said he as he returned to his\\nfavouri',\n",
       " 'quimau. The detection of types is one of the\\nmost elementary branches of knowledge to the special ex',\n",
       " 'on the finger. All this is amusing, though\\nrather elementary, but I must go back to business, Watson',\n",
       " 'the hansom.”\\n\\n      “Excellent!” I cried.\\n\\n      “Elementary,” said he. “It is one of those instance',\n",
       " 'hazels once again. With a spud, a tin\\nbox, and an elementary book on botany, there are instructive d',\n",
       " 'th\\na mischievous twinkle. “It belongs to the same elementary class of\\ndeduction which I should illus']"
      ]
     },
     "execution_count": 4,
     "metadata": {},
     "output_type": "execute_result"
    }
   ],
   "source": [
    "#create an empty list for quotes\n",
    "quotes=[]\n",
    "#set the initial location as -10\n",
    "loc=-10\n",
    "for i in range(0,len(books)):\n",
    "    #lowercase to allow search\n",
    "    search=text[i].lower()\n",
    "    #find how many times the phrase appears\n",
    "    count=search.count(\"elementary\")\n",
    "    #run quote searcher if it appears\n",
    "    if(count!=0):\n",
    "        #run while phrase is still in book\n",
    "        while(loc<len(text[i])):\n",
    "            #find index of first word\n",
    "            loc=search.find(\"elementary\",(loc+10))\n",
    "            if(loc==(-1)):\n",
    "                #if the phrase \n",
    "                break\n",
    "            else:\n",
    "                #otherwise, add quote with 50 characters each way\n",
    "                quotes.append(text[i][(loc-50):(loc+50)])\n",
    "quotes"
   ]
  },
  {
   "cell_type": "markdown",
   "metadata": {},
   "source": [
    "This gives us a clear and wider picture of the use of the phrase in the books. However, we do not have the whole picture. Therfore, we write a script to select the paragraph containing the phrase, that is the text between ```\\n\\n```."
   ]
  },
  {
   "cell_type": "code",
   "execution_count": 5,
   "metadata": {},
   "outputs": [
    {
     "data": {
      "text/plain": [
       "['“From a drop of water,” said the writer, “a logician could infer the possibility of an Atlantic or a Niagara without having seen or heard of one or the other. So all life is a great chain, the nature of which is known whenever we are shown a single link of it. Like all other arts, the Science of Deduction and Analysis is one which can only be acquired by long and patient study nor is life long enough to allow any mortal to attain the highest possible perfection in it. Before turning to those moral and mental aspects of the matter which present the greatest difficulties, let the enquirer begin by mastering more elementary problems. Let him, on meeting a fellow-mortal, learn at a glance to distinguish the history of the man, and the trade or profession to which he belongs. Puerile as such an exercise may seem, it sharpens the faculties of observation, and teaches one where to look and what to look for. By a man’s finger nails, by his coat-sleeve, by his boot, by his trouser knees, by the callosities of his forefinger and thumb, by his expression, by his shirt cuffs--by each of these things a man’s calling is plainly revealed. That all united should fail to enlighten the competent enquirer in any case is almost inconceivable.”',\n",
       " '\"Interesting, though elementary,\" said he as he returned to his favourite corner of the settee. \"There are certainly one or two indications upon the stick. It gives us the basis for several deductions.\"',\n",
       " '\"But this is my special hobby, and the differences are equally obvious. There is as much difference to my eyes between the leaded bourgeois type of a Times article and the slovenly print of an evening half-penny paper as there could be between your negro and your Esquimau. The detection of types is one of the most elementary branches of knowledge to the special expert in crime, though I confess that once when I was very young I confused the Leeds Mercury with the Western Morning News. But a Times leader is entirely distinctive, and these words could have been taken from nothing else. As it was done yesterday the strong probability was that we should find the words in yesterday\\'s issue.\"',\n",
       " '“I noted, in passing, that she had written a note before leaving home but after being fully dressed. You observed that her right glove was torn at the forefinger, but you did not apparently see that both glove and finger were stained with violet ink. She had written in a hurry and dipped her pen too deep. It must have been this morning, or the mark would not remain clear upon the finger. All this is amusing, though rather elementary, but I must go back to business, Watson. Would you mind reading me the advertised description of Mr. Hosmer Angel?”',\n",
       " '      “Elementary,” said he. “It is one of those instances where the       reasoner can produce an effect which seems remarkable to his       neighbour, because the latter has missed the one little point       which is the basis of the deduction. The same may be said, my       dear fellow, for the effect of some of these little sketches of       yours, which is entirely meretricious, depending as it does upon       your retaining in your own hands some factors in the problem       which are never imparted to the reader. Now, at present I am in       the position of these same readers, for I hold in this hand       several threads of one of the strangest cases which ever       perplexed a man’s brain, and yet I lack the one or two which are       needful to complete my theory. But I’ll have them, Watson, I’ll       have them!” His eyes kindled and a slight flush sprang into his       thin cheeks. For an instant only. When I glanced again his face       had resumed that red-Indian composure which had made so many       regard him as a machine rather than a man.',\n",
       " '“I’m sure, Watson, a week in the country will be invaluable to you,” he remarked. “It is very pleasant to see the first green shoots upon the hedges and the catkins on the hazels once again. With a spud, a tin box, and an elementary book on botany, there are instructive days to be spent.” He prowled about with this equipment himself, but it was a poor show of plants which he would bring back of an evening.',\n",
       " '“The train of reasoning is not very obscure, Watson,” said Holmes with a mischievous twinkle. “It belongs to the same elementary class of deduction which I should illustrate if I were to ask you who shared your cab in your drive this morning.”']"
      ]
     },
     "execution_count": 5,
     "metadata": {},
     "output_type": "execute_result"
    }
   ],
   "source": [
    "#create an empty list for quotes\n",
    "quotes=[]\n",
    "#set the initial location as -10\n",
    "loc=-10\n",
    "for i in range(0,len(books)):\n",
    "    #lowercase to allow search\n",
    "    search=text[i].lower()\n",
    "    #find how many times the phrase appears\n",
    "    count=search.count(\"elementary\")\n",
    "    #run quote searcher if it appears\n",
    "    if(count!=0):\n",
    "        #run while phrase is still in book\n",
    "        while(loc<len(text[i])):\n",
    "            #find index of first word\n",
    "            loc=search.find(\"elementary\",(loc+10))\n",
    "            #initialise start of text and end of text variables\n",
    "            start=loc-1\n",
    "            end=loc+1\n",
    "            if(loc==(-1)):\n",
    "                #if the phrase \n",
    "                break\n",
    "            else:\n",
    "                #search for the paragraph start\n",
    "                while(search.find(\"\\n\\n\",start,loc)==-1):\n",
    "                    start=start-1\n",
    "                #same for the end\n",
    "                while(search.find(\"\\n\\n\",loc,end)==-1):\n",
    "                    end=end+1\n",
    "                #then, add paragraphs\n",
    "                quotes.append(text[i][(start+2):(end-2)].replace(\"\\n\",\" \"))\n",
    "quotes"
   ]
  },
  {
   "cell_type": "markdown",
   "metadata": {},
   "source": [
    "Now, with the full paragraphs, we can see that every time \"elementary\" appeared in books it was indeed spoken by Sherlock Holmes. The quotes aren't ideally presented, so we write a script:"
   ]
  },
  {
   "cell_type": "code",
   "execution_count": 6,
   "metadata": {},
   "outputs": [
    {
     "name": "stdout",
     "output_type": "stream",
     "text": [
      "\t\"“From a drop of water,” said the writer, “a logician could infer the possibility of an Atlantic or a Niagara without having seen or heard of one or the other. So all life is a great chain, the nature of which is known whenever we are shown a single link of it. Like all other arts, the Science of Deduction and Analysis is one which can only be acquired by long and patient study nor is life long enough to allow any mortal to attain the highest possible perfection in it. Before turning to those moral and mental aspects of the matter which present the greatest difficulties, let the enquirer begin by mastering more elementary problems. Let him, on meeting a fellow-mortal, learn at a glance to distinguish the history of the man, and the trade or profession to which he belongs. Puerile as such an exercise may seem, it sharpens the faculties of observation, and teaches one where to look and what to look for. By a man’s finger nails, by his coat-sleeve, by his boot, by his trouser knees, by the callosities of his forefinger and thumb, by his expression, by his shirt cuffs--by each of these things a man’s calling is plainly revealed. That all united should fail to enlighten the competent enquirer in any case is almost inconceivable.”\"\n",
      "\n",
      "\n",
      "\t\"\"Interesting, though elementary,\" said he as he returned to his favourite corner of the settee. \"There are certainly one or two indications upon the stick. It gives us the basis for several deductions.\"\"\n",
      "\n",
      "\n",
      "\t\"\"But this is my special hobby, and the differences are equally obvious. There is as much difference to my eyes between the leaded bourgeois type of a Times article and the slovenly print of an evening half-penny paper as there could be between your negro and your Esquimau. The detection of types is one of the most elementary branches of knowledge to the special expert in crime, though I confess that once when I was very young I confused the Leeds Mercury with the Western Morning News. But a Times leader is entirely distinctive, and these words could have been taken from nothing else. As it was done yesterday the strong probability was that we should find the words in yesterday's issue.\"\"\n",
      "\n",
      "\n",
      "\t\"“I noted, in passing, that she had written a note before leaving home but after being fully dressed. You observed that her right glove was torn at the forefinger, but you did not apparently see that both glove and finger were stained with violet ink. She had written in a hurry and dipped her pen too deep. It must have been this morning, or the mark would not remain clear upon the finger. All this is amusing, though rather elementary, but I must go back to business, Watson. Would you mind reading me the advertised description of Mr. Hosmer Angel?”\"\n",
      "\n",
      "\n",
      "\t\"      “Elementary,” said he. “It is one of those instances where the       reasoner can produce an effect which seems remarkable to his       neighbour, because the latter has missed the one little point       which is the basis of the deduction. The same may be said, my       dear fellow, for the effect of some of these little sketches of       yours, which is entirely meretricious, depending as it does upon       your retaining in your own hands some factors in the problem       which are never imparted to the reader. Now, at present I am in       the position of these same readers, for I hold in this hand       several threads of one of the strangest cases which ever       perplexed a man’s brain, and yet I lack the one or two which are       needful to complete my theory. But I’ll have them, Watson, I’ll       have them!” His eyes kindled and a slight flush sprang into his       thin cheeks. For an instant only. When I glanced again his face       had resumed that red-Indian composure which had made so many       regard him as a machine rather than a man.\"\n",
      "\n",
      "\n",
      "\t\"“I’m sure, Watson, a week in the country will be invaluable to you,” he remarked. “It is very pleasant to see the first green shoots upon the hedges and the catkins on the hazels once again. With a spud, a tin box, and an elementary book on botany, there are instructive days to be spent.” He prowled about with this equipment himself, but it was a poor show of plants which he would bring back of an evening.\"\n",
      "\n",
      "\n",
      "\t\"“The train of reasoning is not very obscure, Watson,” said Holmes with a mischievous twinkle. “It belongs to the same elementary class of deduction which I should illustrate if I were to ask you who shared your cab in your drive this morning.”\"\n",
      "\n",
      "\n"
     ]
    }
   ],
   "source": [
    "#loop for each quote\n",
    "for i in range(0,len(quotes)):\n",
    "    #print out quote\n",
    "    print(\"\\t\\\"\"+quotes[i]+\"\\\"\\n\\n\")"
   ]
  },
  {
   "cell_type": "markdown",
   "metadata": {},
   "source": [
    "Slightly easier to read, and to quote. Monotype font might not be the best, but it's what we will have to work with."
   ]
  },
  {
   "cell_type": "markdown",
   "metadata": {},
   "source": [
    "## What about other words?\n",
    "What if we want to find out how many times Holmes or Watson were mentioned, or how many times Baker Street is mentioned? Or, even, how many times Doyle wrote a certain word. We write a short script."
   ]
  },
  {
   "cell_type": "code",
   "execution_count": 7,
   "metadata": {},
   "outputs": [
    {
     "name": "stdout",
     "output_type": "stream",
     "text": [
      "Enter phrase to search: exit()\n",
      "The number of times the phrase \"exit()\" appears is 0.\n"
     ]
    }
   ],
   "source": [
    "#get phrase to search\n",
    "phrase=input(\"Enter phrase to search: \")\n",
    "#set initial count to 0\n",
    "count=0\n",
    "#loop for each book\n",
    "for i in range(0,len(books)):\n",
    "    #lowercase to allow search\n",
    "    search=text[i].lower()\n",
    "    #add the number of times the phrase appears\n",
    "    count=count+search.count(phrase.lower())\n",
    "print(\"The number of times the phrase \\\"\"+phrase+\"\\\" appears is \"+str(count)+\".\")"
   ]
  },
  {
   "cell_type": "markdown",
   "metadata": {},
   "source": [
    "It is rather unintuitive to run the script manually everytime, so we make it loop until no longer required. Typing ```exit()``` will end the script."
   ]
  },
  {
   "cell_type": "code",
   "execution_count": 8,
   "metadata": {},
   "outputs": [
    {
     "name": "stdout",
     "output_type": "stream",
     "text": [
      "Enter phrase to search: exit()\n"
     ]
    }
   ],
   "source": [
    "#get phrase to search\n",
    "phrase=input(\"Enter phrase to search: \")\n",
    "while(phrase!=\"exit()\"):\n",
    "    #set initial count to 0\n",
    "    count=0\n",
    "    #loop for each book\n",
    "    for i in range(0,len(books)):\n",
    "        #lowercase to allow search\n",
    "        search=text[i].lower()\n",
    "        #add the number of times the phrase appears\n",
    "        count=count+search.count(phrase.lower())\n",
    "    print(\"The number of times the phrase \\\"\"+phrase+\"\\\" appears is \"+str(count)+\".\\n\")\n",
    "    #get phrase to search again\n",
    "    phrase=input(\"Enter phrase to search: \")"
   ]
  },
  {
   "cell_type": "markdown",
   "metadata": {},
   "source": [
    "We can also use a similar adaptation to our quotes, with neat presentation after. Again, use ```exit()``` to stop the script."
   ]
  },
  {
   "cell_type": "code",
   "execution_count": 9,
   "metadata": {},
   "outputs": [
    {
     "name": "stdout",
     "output_type": "stream",
     "text": [
      "Enter phrase to search: exit()\n"
     ]
    }
   ],
   "source": [
    "#get phrase to search\n",
    "phrase=input(\"Enter phrase to search: \")\n",
    "while(phrase!=\"exit()\"):\n",
    "    #create an empty list for quotes\n",
    "    quotes=[]\n",
    "    for i in range(0,len(books)):\n",
    "        #lowercase to allow search\n",
    "        search=text[i].lower()\n",
    "        #find how many times the phrase appears\n",
    "        count=search.count(phrase.lower())\n",
    "        #run quote searcher if it appears\n",
    "        if(count!=0):\n",
    "            #set initial location to -10\n",
    "            loc=-10\n",
    "            #run while phrase is still in book\n",
    "            while(loc<len(text[i])):\n",
    "                #find index of first word\n",
    "                loc=search.find(phrase.lower(),(loc+10))\n",
    "                #initialise start of text and end of text variables\n",
    "                start=loc-1\n",
    "                end=loc+1\n",
    "                if(loc==(-1)):\n",
    "                    #if the phrase \n",
    "                    break\n",
    "                else:\n",
    "                    #search for the paragraph start\n",
    "                    while(search.find(\"\\n\\n\",start,loc)==-1):\n",
    "                        start=start-1\n",
    "                    #same for the end\n",
    "                    while(search.find(\"\\n\\n\",loc,end)==-1):\n",
    "                        end=end+1\n",
    "                    #then, add paragraphs\n",
    "                    quotes.append(text[i][(start+2):(end-2)].replace(\"\\n\",\" \"))\n",
    "    #loop for each quote\n",
    "    for i in range(0,len(quotes)):\n",
    "        #print out quote\n",
    "        print(\"\\t\\\"\"+quotes[i]+\"\\\"\\n\\n\")\n",
    "    #get phrase to search\n",
    "    phrase=input(\"Enter phrase to search: \")"
   ]
  },
  {
   "cell_type": "markdown",
   "metadata": {},
   "source": [
    "For more common words, Python begins to struggle. For example, enter \"the\"! However, it is a useful tool to select words and phrases from Doyle's Sherlock Holmes books, and returns some interesting results."
   ]
  },
  {
   "cell_type": "markdown",
   "metadata": {},
   "source": [
    "## What if I want to search another book?\n",
    "Our scripts can be adapted to search other books, provided these are ```.txt``` files. Links to these books are available on websites such as <a href=\"https://www.gutenberg.org\">Project Gutenberg</a>. We use \"A Tale of Two Cities\", by Charles Dickens, accessible in text format at ```https://www.gutenberg.org/files/98/98-0.txt```."
   ]
  },
  {
   "cell_type": "code",
   "execution_count": 10,
   "metadata": {},
   "outputs": [
    {
     "name": "stdout",
     "output_type": "stream",
     "text": [
      "Enter URL of file: https://www.gutenberg.org/files/98/98-0.txt\n",
      "\n",
      "Enter phrase to search: Old Bailey\n",
      "The number of times the phrase \"Old Bailey\" appears is 16.\n",
      "\n",
      "Enter phrase to search: exit()\n"
     ]
    }
   ],
   "source": [
    "#get path to file\n",
    "file=input(\"Enter URL of file: \")\n",
    "text=urllib.request.urlopen(file).read().decode(\"utf-8\")\n",
    "#get phrase to search\n",
    "phrase=input(\"\\nEnter phrase to search: \")\n",
    "while(phrase!=\"exit()\"):\n",
    "    #set initial count to 0\n",
    "    count=0\n",
    "    #lowercase to allow search\n",
    "    search=text.lower()\n",
    "    #add the number of times the phrase appears\n",
    "    count=count+search.count(phrase.lower())\n",
    "    print(\"The number of times the phrase \\\"\"+phrase+\"\\\" appears is \"+str(count)+\".\\n\")\n",
    "    #get phrase to search again\n",
    "    phrase=input(\"Enter phrase to search: \")"
   ]
  },
  {
   "cell_type": "markdown",
   "metadata": {},
   "source": [
    "We can apply our search script to any text file now! Improvements that could have been made are:\n",
    "- exact matching of words (for example, \"Paris\" will return more due to the word \"com**paris**on\" appearing in the text)\n",
    "- better styling of quotes, overcoming unicode decoding errors\n",
    "- ways to visualise use of different words and phrases"
   ]
  }
 ],
 "metadata": {
  "kernelspec": {
   "display_name": "Python 3",
   "language": "python",
   "name": "python3"
  },
  "language_info": {
   "codemirror_mode": {
    "name": "ipython",
    "version": 3
   },
   "file_extension": ".py",
   "mimetype": "text/x-python",
   "name": "python",
   "nbconvert_exporter": "python",
   "pygments_lexer": "ipython3",
   "version": "3.7.4"
  }
 },
 "nbformat": 4,
 "nbformat_minor": 2
}
