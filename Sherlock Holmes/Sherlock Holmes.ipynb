{
 "cells": [
  {
   "cell_type": "code",
   "execution_count": 1,
   "metadata": {},
   "outputs": [],
   "source": [
    "#import required libraries\n",
    "import urllib"
   ]
  },
  {
   "cell_type": "markdown",
   "metadata": {},
   "source": [
    "# How many times does Sherlock Holmes actually say \"elementary\"?\n",
    "\"Elementary, my dear Watson\" has become a fiercly attributed quote to Holmes. There's even a television programme based on his exploits bearing the name \"Elementary\". However, some note that the phrase is not as common as we are led to believe."
   ]
  },
  {
   "cell_type": "markdown",
   "metadata": {},
   "source": [
    "## Where did Sherlock Holmes appear in literature?\n",
    "We identify four novels and some 40+ short stories, freely accessible on the <a href=\"https://www.gutenberg.org\">Project Gutenberg</a> website, that are attributed to the Sherlock Holmes canon. We load these into **Python**."
   ]
  },
  {
   "cell_type": "code",
   "execution_count": 2,
   "metadata": {},
   "outputs": [],
   "source": [
    "#names of the files we are searching\n",
    "books=[\"study\",\"sign\",\"hound\",\"valley\",\"adventures\",\"memoirs\",\"return\",\"bow\"]\n",
    "#list to store the text of the books\n",
    "text=[]\n",
    "#loop for each book\n",
    "for i in range(0,len(books)):\n",
    "    #decode file\n",
    "    book=open((books[i]+\".txt\"),\"r\",encoding='utf-8')\n",
    "    #store in list\n",
    "    text.append(book.read())\n",
    "    #close the book\n",
    "    book.close()"
   ]
  },
  {
   "cell_type": "markdown",
   "metadata": {},
   "source": [
    "## How many times did Homes say \"elementary\"?\n",
    "We now search our novels and short stories for the number of times the word was used."
   ]
  },
  {
   "cell_type": "code",
   "execution_count": 3,
   "metadata": {},
   "outputs": [
    {
     "name": "stdout",
     "output_type": "stream",
     "text": [
      "The number of times the phrase \"elementary\" appears is 7.\n"
     ]
    }
   ],
   "source": [
    "#set initial count to 0\n",
    "count=0\n",
    "#loop for each book\n",
    "for i in range(0,len(books)):\n",
    "    #lowercase to allow search\n",
    "    search=text[i].lower()\n",
    "    #add the number of times the phrase appears\n",
    "    count=count+search.count(\"elementary\")\n",
    "print(\"The number of times the phrase \\\"elementary\\\" appears is \"+str(count)+\".\")"
   ]
  },
  {
   "cell_type": "markdown",
   "metadata": {},
   "source": [
    "So, we can deduce that Holmes uses the phrase at most seven times. However, it is clear that it is not only Holmes who could have uttered this phrase. We therefore look to select text around the phrase in an attempt to assert this."
   ]
  },
  {
   "cell_type": "code",
   "execution_count": 4,
   "metadata": {},
   "outputs": [
    {
     "data": {
      "text/plain": [
       "['culties, let the enquirer begin by mastering more elementary\\nproblems. Let him, on meeting a fellow-',\n",
       " 't again with a\\nconvex lens.\\n\\n\"Interesting, though elementary,\" said he as he returned to his\\nfavouri',\n",
       " 'quimau. The detection of types is one of the\\nmost elementary branches of knowledge to the special ex',\n",
       " 'on the finger. All this is amusing, though\\nrather elementary, but I must go back to business, Watson',\n",
       " 'the hansom.”\\n\\n      “Excellent!” I cried.\\n\\n      “Elementary,” said he. “It is one of those instance',\n",
       " 'hazels once again. With a spud, a tin\\nbox, and an elementary book on botany, there are instructive d',\n",
       " 'th\\na mischievous twinkle. “It belongs to the same elementary class of\\ndeduction which I should illus']"
      ]
     },
     "execution_count": 4,
     "metadata": {},
     "output_type": "execute_result"
    }
   ],
   "source": [
    "#create an empty list for quotes\n",
    "quotes=[]\n",
    "#set the initial location as -10\n",
    "loc=-10\n",
    "for i in range(0,len(books)):\n",
    "    #lowercase to allow search\n",
    "    search=text[i].lower()\n",
    "    #find how many times the phrase appears\n",
    "    count=search.count(\"elementary\")\n",
    "    #run quote searcher if it appears\n",
    "    if(count!=0):\n",
    "        #run while phrase is still in book\n",
    "        while(loc<len(text[i])):\n",
    "            #find index of first word\n",
    "            loc=search.find(\"elementary\",(loc+10))\n",
    "            if(loc==(-1)):\n",
    "                #if the phrase \n",
    "                break\n",
    "            else:\n",
    "                #otherwise, add quote with 50 characters each way\n",
    "                quotes.append(text[i][(loc-50):(loc+50)])\n",
    "quotes"
   ]
  },
  {
   "cell_type": "markdown",
   "metadata": {},
   "source": [
    "This gives us a clear and wider picture of the use of the phrase in the books. However, we do not have the whole picture. Therfore, we write a script to select the paragraph containing the phrase, that is the text between ```\\n\\n```."
   ]
  },
  {
   "cell_type": "code",
   "execution_count": 5,
   "metadata": {},
   "outputs": [
    {
     "data": {
      "text/plain": [
       "['“From a drop of water,” said the writer, “a logician could infer the possibility of an Atlantic or a Niagara without having seen or heard of one or the other. So all life is a great chain, the nature of which is known whenever we are shown a single link of it. Like all other arts, the Science of Deduction and Analysis is one which can only be acquired by long and patient study nor is life long enough to allow any mortal to attain the highest possible perfection in it. Before turning to those moral and mental aspects of the matter which present the greatest difficulties, let the enquirer begin by mastering more elementary problems. Let him, on meeting a fellow-mortal, learn at a glance to distinguish the history of the man, and the trade or profession to which he belongs. Puerile as such an exercise may seem, it sharpens the faculties of observation, and teaches one where to look and what to look for. By a man’s finger nails, by his coat-sleeve, by his boot, by his trouser knees, by the callosities of his forefinger and thumb, by his expression, by his shirt cuffs--by each of these things a man’s calling is plainly revealed. That all united should fail to enlighten the competent enquirer in any case is almost inconceivable.”',\n",
       " '\"Interesting, though elementary,\" said he as he returned to his favourite corner of the settee. \"There are certainly one or two indications upon the stick. It gives us the basis for several deductions.\"',\n",
       " '\"But this is my special hobby, and the differences are equally obvious. There is as much difference to my eyes between the leaded bourgeois type of a Times article and the slovenly print of an evening half-penny paper as there could be between your negro and your Esquimau. The detection of types is one of the most elementary branches of knowledge to the special expert in crime, though I confess that once when I was very young I confused the Leeds Mercury with the Western Morning News. But a Times leader is entirely distinctive, and these words could have been taken from nothing else. As it was done yesterday the strong probability was that we should find the words in yesterday\\'s issue.\"',\n",
       " '“I noted, in passing, that she had written a note before leaving home but after being fully dressed. You observed that her right glove was torn at the forefinger, but you did not apparently see that both glove and finger were stained with violet ink. She had written in a hurry and dipped her pen too deep. It must have been this morning, or the mark would not remain clear upon the finger. All this is amusing, though rather elementary, but I must go back to business, Watson. Would you mind reading me the advertised description of Mr. Hosmer Angel?”',\n",
       " '      “Elementary,” said he. “It is one of those instances where the       reasoner can produce an effect which seems remarkable to his       neighbour, because the latter has missed the one little point       which is the basis of the deduction. The same may be said, my       dear fellow, for the effect of some of these little sketches of       yours, which is entirely meretricious, depending as it does upon       your retaining in your own hands some factors in the problem       which are never imparted to the reader. Now, at present I am in       the position of these same readers, for I hold in this hand       several threads of one of the strangest cases which ever       perplexed a man’s brain, and yet I lack the one or two which are       needful to complete my theory. But I’ll have them, Watson, I’ll       have them!” His eyes kindled and a slight flush sprang into his       thin cheeks. For an instant only. When I glanced again his face       had resumed that red-Indian composure which had made so many       regard him as a machine rather than a man.',\n",
       " '“I’m sure, Watson, a week in the country will be invaluable to you,” he remarked. “It is very pleasant to see the first green shoots upon the hedges and the catkins on the hazels once again. With a spud, a tin box, and an elementary book on botany, there are instructive days to be spent.” He prowled about with this equipment himself, but it was a poor show of plants which he would bring back of an evening.',\n",
       " '“The train of reasoning is not very obscure, Watson,” said Holmes with a mischievous twinkle. “It belongs to the same elementary class of deduction which I should illustrate if I were to ask you who shared your cab in your drive this morning.”']"
      ]
     },
     "execution_count": 5,
     "metadata": {},
     "output_type": "execute_result"
    }
   ],
   "source": [
    "#create an empty list for quotes\n",
    "quotes=[]\n",
    "#set the initial location as -10\n",
    "loc=-10\n",
    "for i in range(0,len(books)):\n",
    "    #lowercase to allow search\n",
    "    search=text[i].lower()\n",
    "    #find how many times the phrase appears\n",
    "    count=search.count(\"elementary\")\n",
    "    #run quote searcher if it appears\n",
    "    if(count!=0):\n",
    "        #run while phrase is still in book\n",
    "        while(loc<len(text[i])):\n",
    "            #find index of first word\n",
    "            loc=search.find(\"elementary\",(loc+10))\n",
    "            #initialise start of text and end of text variables\n",
    "            start=loc-1\n",
    "            end=loc+1\n",
    "            if(loc==(-1)):\n",
    "                #if the phrase \n",
    "                break\n",
    "            else:\n",
    "                #search for the paragraph start\n",
    "                while(search.find(\"\\n\\n\",start,loc)==-1):\n",
    "                    start=start-1\n",
    "                #same for the end\n",
    "                while(search.find(\"\\n\\n\",loc,end)==-1):\n",
    "                    end=end+1\n",
    "                #then, add paragraphs\n",
    "                quotes.append(text[i][(start+2):(end-2)].replace(\"\\n\",\" \"))\n",
    "quotes"
   ]
  },
  {
   "cell_type": "markdown",
   "metadata": {},
   "source": [
    "Now, with the full paragraphs, we can see that every time \"elementary\" appeared in books it was indeed spoken by Sherlock Holmes. The quotes aren't ideally presented, so we write a script:"
   ]
  },
  {
   "cell_type": "code",
   "execution_count": 6,
   "metadata": {},
   "outputs": [
    {
     "name": "stdout",
     "output_type": "stream",
     "text": [
      "\t\"“From a drop of water,” said the writer, “a logician could infer the possibility of an Atlantic or a Niagara without having seen or heard of one or the other. So all life is a great chain, the nature of which is known whenever we are shown a single link of it. Like all other arts, the Science of Deduction and Analysis is one which can only be acquired by long and patient study nor is life long enough to allow any mortal to attain the highest possible perfection in it. Before turning to those moral and mental aspects of the matter which present the greatest difficulties, let the enquirer begin by mastering more elementary problems. Let him, on meeting a fellow-mortal, learn at a glance to distinguish the history of the man, and the trade or profession to which he belongs. Puerile as such an exercise may seem, it sharpens the faculties of observation, and teaches one where to look and what to look for. By a man’s finger nails, by his coat-sleeve, by his boot, by his trouser knees, by the callosities of his forefinger and thumb, by his expression, by his shirt cuffs--by each of these things a man’s calling is plainly revealed. That all united should fail to enlighten the competent enquirer in any case is almost inconceivable.”\"\n",
      "\n",
      "\n",
      "\t\"\"Interesting, though elementary,\" said he as he returned to his favourite corner of the settee. \"There are certainly one or two indications upon the stick. It gives us the basis for several deductions.\"\"\n",
      "\n",
      "\n",
      "\t\"\"But this is my special hobby, and the differences are equally obvious. There is as much difference to my eyes between the leaded bourgeois type of a Times article and the slovenly print of an evening half-penny paper as there could be between your negro and your Esquimau. The detection of types is one of the most elementary branches of knowledge to the special expert in crime, though I confess that once when I was very young I confused the Leeds Mercury with the Western Morning News. But a Times leader is entirely distinctive, and these words could have been taken from nothing else. As it was done yesterday the strong probability was that we should find the words in yesterday's issue.\"\"\n",
      "\n",
      "\n",
      "\t\"“I noted, in passing, that she had written a note before leaving home but after being fully dressed. You observed that her right glove was torn at the forefinger, but you did not apparently see that both glove and finger were stained with violet ink. She had written in a hurry and dipped her pen too deep. It must have been this morning, or the mark would not remain clear upon the finger. All this is amusing, though rather elementary, but I must go back to business, Watson. Would you mind reading me the advertised description of Mr. Hosmer Angel?”\"\n",
      "\n",
      "\n",
      "\t\"      “Elementary,” said he. “It is one of those instances where the       reasoner can produce an effect which seems remarkable to his       neighbour, because the latter has missed the one little point       which is the basis of the deduction. The same may be said, my       dear fellow, for the effect of some of these little sketches of       yours, which is entirely meretricious, depending as it does upon       your retaining in your own hands some factors in the problem       which are never imparted to the reader. Now, at present I am in       the position of these same readers, for I hold in this hand       several threads of one of the strangest cases which ever       perplexed a man’s brain, and yet I lack the one or two which are       needful to complete my theory. But I’ll have them, Watson, I’ll       have them!” His eyes kindled and a slight flush sprang into his       thin cheeks. For an instant only. When I glanced again his face       had resumed that red-Indian composure which had made so many       regard him as a machine rather than a man.\"\n",
      "\n",
      "\n",
      "\t\"“I’m sure, Watson, a week in the country will be invaluable to you,” he remarked. “It is very pleasant to see the first green shoots upon the hedges and the catkins on the hazels once again. With a spud, a tin box, and an elementary book on botany, there are instructive days to be spent.” He prowled about with this equipment himself, but it was a poor show of plants which he would bring back of an evening.\"\n",
      "\n",
      "\n",
      "\t\"“The train of reasoning is not very obscure, Watson,” said Holmes with a mischievous twinkle. “It belongs to the same elementary class of deduction which I should illustrate if I were to ask you who shared your cab in your drive this morning.”\"\n",
      "\n",
      "\n"
     ]
    }
   ],
   "source": [
    "#loop for each quote\n",
    "for i in range(0,len(quotes)):\n",
    "    #print out quote\n",
    "    print(\"\\t\\\"\"+quotes[i]+\"\\\"\\n\\n\")"
   ]
  },
  {
   "cell_type": "markdown",
   "metadata": {},
   "source": [
    "Slightly easier to read, and to quote. Monotype font might not be the best, but it's what we will have to work with."
   ]
  },
  {
   "cell_type": "markdown",
   "metadata": {},
   "source": [
    "## What about other words?\n",
    "What if we want to find out how many times Holmes or Watson were mentioned, or how many times Baker Street is mentioned? Or, even, how many times Doyle wrote a certain word. We write a short script."
   ]
  },
  {
   "cell_type": "code",
   "execution_count": 7,
   "metadata": {},
   "outputs": [
    {
     "name": "stdout",
     "output_type": "stream",
     "text": [
      "Enter phrase to search: Holmes\n",
      "The number of times the phrase \"Holmes\" appears is 2529.\n"
     ]
    }
   ],
   "source": [
    "#get phrase to search\n",
    "phrase=input(\"Enter phrase to search: \")\n",
    "#set initial count to 0\n",
    "count=0\n",
    "#loop for each book\n",
    "for i in range(0,len(books)):\n",
    "    #lowercase to allow search\n",
    "    search=text[i].lower()\n",
    "    #add the number of times the phrase appears\n",
    "    count=count+search.count(phrase.lower())\n",
    "print(\"The number of times the phrase \\\"\"+phrase+\"\\\" appears is \"+str(count)+\".\")"
   ]
  },
  {
   "cell_type": "markdown",
   "metadata": {},
   "source": [
    "It is rather unintuitive to run the script manually everytime, so we make it loop until no longer required. Typing ```exit()``` will end the script."
   ]
  },
  {
   "cell_type": "code",
   "execution_count": 8,
   "metadata": {},
   "outputs": [
    {
     "name": "stdout",
     "output_type": "stream",
     "text": [
      "Enter phrase to search: Watson\n",
      "The number of times the phrase \"Watson\" appears is 813.\n",
      "\n",
      "Enter phrase to search: Baker Street\n",
      "The number of times the phrase \"Baker Street\" appears is 100.\n",
      "\n",
      "Enter phrase to search: the\n",
      "The number of times the phrase \"the\" appears is 45773.\n",
      "\n",
      "Enter phrase to search: exit()\n"
     ]
    }
   ],
   "source": [
    "#get phrase to search\n",
    "phrase=input(\"Enter phrase to search: \")\n",
    "while(phrase!=\"exit()\"):\n",
    "    #set initial count to 0\n",
    "    count=0\n",
    "    #loop for each book\n",
    "    for i in range(0,len(books)):\n",
    "        #lowercase to allow search\n",
    "        search=text[i].lower()\n",
    "        #add the number of times the phrase appears\n",
    "        count=count+search.count(phrase.lower())\n",
    "    print(\"The number of times the phrase \\\"\"+phrase+\"\\\" appears is \"+str(count)+\".\\n\")\n",
    "    #get phrase to search again\n",
    "    phrase=input(\"Enter phrase to search: \")"
   ]
  },
  {
   "cell_type": "markdown",
   "metadata": {},
   "source": [
    "We can create a similar script by adapting our quote selection method, with neat presentation after. Again, use ```exit()``` to stop the script."
   ]
  },
  {
   "cell_type": "code",
   "execution_count": 9,
   "metadata": {},
   "outputs": [
    {
     "name": "stdout",
     "output_type": "stream",
     "text": [
      "Enter phrase to search: Baker Street\n",
      "\t\"Sherlock Holmes seemed delighted at the idea of sharing his rooms with me. “I have my eye on a suite in Baker Street,” he said, “which would suit us down to the ground. You don’t mind the smell of strong tobacco, I hope?”\"\n",
      "\n",
      "\n",
      "\t\"WE met next day as he had arranged, and inspected the rooms at No. 221B, [5] Baker Street, of which he had spoken at our meeting. They consisted of a couple of comfortable bed-rooms and a single large airy sitting-room, cheerfully furnished, and illuminated by two broad windows. So desirable in every way were the apartments, and so moderate did the terms seem when divided between us, that the bargain was concluded upon the spot, and we at once entered into possession. That very evening I moved my things round from the hotel, and on the following morning Sherlock Holmes followed me with several boxes and portmanteaus. For a day or two we were busily employed in unpacking and laying out our property to the best advantage. That done, we gradually began to settle down and to accommodate ourselves to our new surroundings.\"\n",
      "\n",
      "\n",
      "\t\"He threw the paper across to me and I glanced at the place indicated. It was the first announcement in the “Found” column. “In Brixton Road, this morning,” it ran, “a plain gold wedding ring, found in the roadway between the ‘White Hart’ Tavern and Holland Grove. Apply Dr. Watson, 221B, Baker Street, between eight and nine this evening.”\"\n",
      "\n",
      "\n",
      "\t\"“It’s the Baker Street division of the detective police force,” said my companion, gravely; and as he spoke there rushed into the room half a dozen of the dirtiest and most ragged street Arabs that ever I clapped eyes on.\"\n",
      "\n",
      "\n",
      "\t\"“I have little more to say, and it’s as well, for I am about done up. I went on cabbing it for a day or so, intending to keep at it until I could save enough to take me back to America. I was standing in the yard when a ragged youngster asked if there was a cabby there called Jefferson Hope, and said that his cab was wanted by a gentleman at 221B, Baker Street. I went round, suspecting no harm, and the next thing I knew, this young man here had the bracelets on my wrists, and as neatly snackled [27] as ever I saw in my life. That’s the whole of my story, gentlemen. You may consider me to be a murderer; but I hold that I am just as much an officer of justice as you are.”\"\n",
      "\n",
      "\n",
      "\t\"“Now, gentlemen,” the Inspector remarked gravely, “the forms of the law must be complied with. On Thursday the prisoner will be brought before the magistrates, and your attendance will be required. Until then I will be responsible for him.” He rang the bell as he spoke, and Jefferson Hope was led off by a couple of warders, while my friend and I made our way out of the Station and took a cab back to Baker Street.\"\n",
      "\n",
      "\n",
      "\t\"I.\t The Science of Deduction II.\t The Statement of the Case III. In Quest of a Solution IV.\t The Story of the Bald-Headed Man V.\t The Tragedy of Pondicherry Lodge VI.\t Sherlock Holmes Gives a Demonstration VII. The Episode of the Barrel VIII. The Baker Street Irregulars IX.\t A Break in the Chain X.\t The End of the Islander XI.\t The Great Agra Treasure XII. The Strange Story of Jonathan Small\"\n",
      "\n",
      "\n",
      "\t\"I was annoyed at this criticism of a work which had been specially designed to please him. I confess, too, that I was irritated by the egotism which seemed to demand that every line of my pamphlet should be devoted to his own special doings. More than once during the years that I had lived with him in Baker Street I had observed that a small vanity underlay my companion’s quiet and didactic manner. I made no remark, however, but sat nursing my wounded leg. I had a Jezail bullet through it some time before, and, though it did not prevent me from walking, it ached wearily at every change of the weather.\"\n",
      "\n",
      "\n",
      "\t\"Chapter VIII The Baker Street Irregulars\"\n",
      "\n",
      "\n",
      "\t\"“You remember the Baker Street division of the detective police force whom I employed in the Jefferson Hope case?”\"\n",
      "\n",
      "\n",
      "\t\"A bath at Baker Street and a complete change freshened me up wonderfully. When I came down to our room I found the breakfast laid and Homes pouring out the coffee.\"\n",
      "\n",
      "\n",
      "\t\"“No, it’s not quite so bad as that. It is the unofficial force,—the Baker Street irregulars.”\"\n",
      "\n",
      "\n",
      "\t\"“Lost.—Whereas Mordecai Smith, boatman, and his son, Jim, left Smith’s Wharf at or about three o’clock last Tuesday morning in the steam launch _Aurora_, black with two red stripes, funnel black with a white band, the sum of five pounds will be paid to any one who can give information to Mrs. Smith, at Smith’s Wharf, or at 221_b_ Baker Street, as to the whereabouts of the said Mordecai Smith and the launch _Aurora_.”\"\n",
      "\n",
      "\n",
      "\t\"This was clearly Holmes’s doing. The Baker Street address was enough to prove that. It struck me as rather ingenious, because it might be read by the fugitives without their seeing in it more than the natural anxiety of a wife for her missing husband.\"\n",
      "\n",
      "\n",
      "\t\"He took the telegram out of his pocket, and handed it to me. It was dated from Poplar at twelve o’clock. “Go to Baker Street at once,” it said. “If I have not returned, wait for me. I am close on the track of the Sholto gang. You can come with us to-night if you want to be in at the finish.”\"\n",
      "\n",
      "\n",
      "\t\"“Hum! There was no use your giving this unnecessary trouble. We have had work enough already through you. However, doctor, I need not warn you to be careful. Bring the box back with you to the Baker Street rooms. You will find us there, on our way to the station.”\"\n",
      "\n",
      "\n",
      "\t\"His forecast proved to be correct, for the detective looked blank enough when I got to Baker Street and showed him the empty box. They had only just arrived, Holmes, the prisoner, and he, for they had changed their plans so far as to report themselves at a station upon the way. My companion lounged in his arm-chair with his usual listless expression, while Small sat stolidly opposite to him with his wooden leg cocked over his sound one. As I exhibited the empty box he leaned back in his chair and laughed aloud.\"\n",
      "\n",
      "\n",
      "\t\"\"In each case the outside porter will send for the hall porter, to whom also you will give a shilling. Here are twenty-three shillings. You will then learn in possibly twenty cases out of the twenty-three that the waste of the day before has been burned or removed. In the three other cases you will be shown a heap of paper and you will look for this page of the Times among it. The odds are enormously against your finding it. There are ten shillings over in case of emergencies. Let me have a report by wire at Baker Street before evening. And now, Watson, it only remains for us to find out by wire the identity of the cabman, No. 2704, and then we will drop into one of the Bond Street picture galleries and fill in the time until we are due at the hotel.\"\"\n",
      "\n",
      "\n",
      "\t\"The German was sent for but professed to know nothing of the matter, nor could any inquiry clear it up. Another item had been added to that constant and apparently purposeless series of small mysteries which had succeeded each other so rapidly. Setting aside the whole grim story of Sir Charles's death, we had a line of inexplicable incidents all within the limits of two days, which included the receipt of the printed letter, the black-bearded spy in the hansom, the loss of the new brown boot, the loss of the old black boot, and now the return of the new brown boot. Holmes sat in silence in the cab as we drove back to Baker Street, and I knew from his drawn brows and keen face that his mind, like my own, was busy in endeavouring to frame some scheme into which all these strange and apparently disconnected episodes could be fitted. All afternoon and late into the evening he sat lost in tobacco and thought.\"\n",
      "\n",
      "\n",
      "\t\"\"Well, I couldn't be sure of that, but I dare say my fare knew all about it. We pulled up half-way down the street and waited an hour and a half. Then the two gentlemen passed us, walking, and we followed down Baker Street and along ----\"\"\n",
      "\n",
      "\n",
      "\t\"I went at once to my room and drew up my report of the morning's conversation for Holmes. It was evident to me that he had been very busy of late, for the notes which I had from Baker Street were few and short, with no comments upon the information which I had supplied and hardly any reference to my mission. No doubt his blackmailing case is absorbing all his faculties. And yet this new factor must surely arrest his attention and renew his interest. I wish that he were here.\"\n",
      "\n",
      "\n",
      "\t\"I stooped under the rude lintel, and there he sat upon a stone outside, his gray eyes dancing with amusement as they fell upon my astonished features. He was thin and worn, but clear and alert, his keen face bronzed by the sun and roughened by the wind. In his tweed suit and cloth cap he looked like any other tourist upon the moor, and he had contrived, with that cat-like love of personal cleanliness which was one of his characteristics, that his chin should be as smooth and his linen as perfect as if he were in Baker Street.\"\n",
      "\n",
      "\n",
      "\t\"\"Well, I am glad from my heart that you are here, for indeed the responsibility and the mystery were both becoming too much for my nerves. But how in the name of wonder did you come here, and what have you been doing? I thought that you were in Baker Street working out that case of blackmailing.\"\"\n",
      "\n",
      "\n",
      "\t\"There was no chance of either of us forgetting that peculiar ruddy tweed suit--the very one which he had worn on the first morning that we had seen him in Baker Street. We caught the one clear glimpse of it, and then the match flickered and went out, even as the hope had gone out of our souls. Holmes groaned, and his face glimmered white through the darkness.\"\n",
      "\n",
      "\n",
      "\t\"\"Exactly. This chance of the picture has supplied us with one of our most obvious missing links. We have him, Watson, we have him, and I dare swear that before to-morrow night he will be fluttering in our net as helpless as one of his own butterflies. A pin, a cork, and a card, and we add him to the Baker Street collection!\" He burst into one of his rare fits of laughter as he turned away from the picture. I have not heard him laugh often, and it has always boded ill to somebody.\"\n",
      "\n",
      "\n",
      "\t\"\"You will take this train to town, Cartwright. The moment you arrive you will send a wire to Sir Henry Baskerville, in my name, to say that if he finds the pocket-book which I have dropped he is to send it by registered post to Baker Street.\"\"\n",
      "\n",
      "\n",
      "\t\"It was the end of November and Holmes and I sat, upon a raw and foggy night, on either side of a blazing fire in our sitting-room in Baker Street. Since the tragic upshot of our visit to Devonshire he had been engaged in two affairs of the utmost importance, in the first of which he had exposed the atrocious conduct of Colonel Upwood in connection with the famous card scandal of the Nonpareil Club, while in the second he had defended the unfortunate Mme. Montpensier from the charge of murder which hung over her in connection with the death of her step-daughter, Mlle. Carére, the young lady who, as it will be remembered, was found six months later alive and married in New York. My friend was in excellent spirits over the success which had attended a succession of difficult and important cases, so that I was able to induce him to discuss the details of the Baskerville mystery. I had waited patiently for the opportunity, for I was aware that he would never permit cases to overlap, and that his clear and logical mind would not be drawn from its present work to dwell upon memories of the past. Sir Henry and Dr. Mortimer were, however, in London, on their way to that long voyage which had been recommended for the restoration of his shattered nerves. They had called upon us that very afternoon, so that it was natural that the subject should come up for discussion.\"\n",
      "\n",
      "\n",
      "\t\"\"It is possible that Stapleton did not know of the existence of an heir in Canada. In any case he would very soon learn it from his friend Dr. Mortimer, and he was told by the latter all details about the arrival of Henry Baskerville. Stapleton's first idea was that this young stranger from Canada might possibly be done to death in London without coming down to Devonshire at all. He distrusted his wife ever since she had refused to help him in laying a trap for the old man, and he dared not leave her long out of his sight for fear he should lose his influence over her. It was for this reason that he took her to London with him. They lodged, I find, at the Mexborough Private Hotel, in Craven Street, which was actually one of those called upon by my agent in search of evidence. Here he kept his wife imprisoned in her room while he, disguised in a beard, followed Dr. Mortimer to Baker Street and afterwards to the station and to the Northumberland Hotel. His wife had some inkling of his plans; but she had such a fear of her husband--a fear founded upon brutal ill-treatment--that she dare not write to warn the man whom she knew to be in danger. If the letter should fall into Stapleton's hands her own life would not be safe. Eventually, as we know, she adopted the expedient of cutting out the words which would form the message, and addressing the letter in a disguised hand. It reached the baronet, and gave him the first warning of his danger.\"\n",
      "\n",
      "\n",
      "\t\"\"I have already told you that your reports reached me rapidly, being forwarded instantly from Baker Street to Coombe Tracey. They were of great service to me, and especially that one incidentally truthful piece of biography of Stapleton's. I was able to establish the identity of the man and the woman and knew at last exactly how I stood. The case had been considerably complicated through the incident of the escaped convict and the relations between him and the Barrymores. This also you cleared up in a very effective way, though I had already come to the same conclusions from my own observations.\"\n",
      "\n",
      "\n",
      "\t\"Do not think that I intrude one story before another is finished. As you read on you will find that this is not so. And when I have detailed those distant events and you have solved this mystery of the past, we shall meet once more in those rooms on Baker Street, where this, like so many other wonderful happenings, will find its end.\"\n",
      "\n",
      "\n",
      "\t\"I had seen little of Holmes lately. My marriage had drifted us away from each other. My own complete happiness, and the home-centred interests which rise up around the man who first finds himself master of his own establishment, were sufficient to absorb all my attention, while Holmes, who loathed every form of society with his whole Bohemian soul, remained in our lodgings in Baker Street, buried among his old books, and alternating from week to week between cocaine and ambition, the drowsiness of the drug, and the fierce energy of his own keen nature. He was still, as ever, deeply attracted by the study of crime, and occupied his immense faculties and extraordinary powers of observation in following out those clues, and clearing up those mysteries which had been abandoned as hopeless by the official police. From time to time I heard some vague account of his doings: of his summons to Odessa in the case of the Trepoff murder, of his clearing up of the singular tragedy of the Atkinson brothers at Trincomalee, and finally of the mission which he had accomplished so delicately and successfully for the reigning family of Holland. Beyond these signs of his activity, however, which I merely shared with all the readers of the daily press, I knew little of my former friend and companion.\"\n",
      "\n",
      "\n",
      "\t\"One night—it was on the twentieth of March, 1888—I was returning from a journey to a patient (for I had now returned to civil practice), when my way led me through Baker Street. As I passed the well-remembered door, which must always be associated in my mind with my wooing, and with the dark incidents of the Study in Scarlet, I was seized with a keen desire to see Holmes again, and to know how he was employing his extraordinary powers. His rooms were brilliantly lit, and, even as I looked up, I saw his tall, spare figure pass twice in a dark silhouette against the blind. He was pacing the room swiftly, eagerly, with his head sunk upon his chest and his hands clasped behind him. To me, who knew his every mood and habit, his attitude and manner told their own story. He was at work again. He had risen out of his drug-created dreams and was hot upon the scent of some new problem. I rang the bell and was shown up to the chamber which had formerly been in part my own.\"\n",
      "\n",
      "\n",
      "\t\"At three o’clock precisely I was at Baker Street, but Holmes had not yet returned. The landlady informed me that he had left the house shortly after eight o’clock in the morning. I sat down beside the fire, however, with the intention of awaiting him, however long he might be. I was already deeply interested in his inquiry, for, though it was surrounded by none of the grim and strange features which were associated with the two crimes which I have already recorded, still, the nature of the case and the exalted station of his client gave it a character of its own. Indeed, apart from the nature of the investigation which my friend had on hand, there was something in his masterly grasp of a situation, and his keen, incisive reasoning, which made it a pleasure to me to study his system of work, and to follow the quick, subtle methods by which he disentangled the most inextricable mysteries. So accustomed was I to his invariable success that the very possibility of his failing had ceased to enter into my head.\"\n",
      "\n",
      "\n",
      "\t\"It was a quarter past six when we left Baker Street, and it still wanted ten minutes to the hour when we found ourselves in Serpentine Avenue. It was already dusk, and the lamps were just being lighted as we paced up and down in front of Briony Lodge, waiting for the coming of its occupant. The house was just such as I had pictured it from Sherlock Holmes’ succinct description, but the locality appeared to be less private than I expected. On the contrary, for a small street in a quiet neighbourhood, it was remarkably animated. There was a group of shabbily dressed men smoking and laughing in a corner, a scissors-grinder with his wheel, two guardsmen who were flirting with a nurse-girl, and several well-dressed young men who were lounging up and down with cigars in their mouths.\"\n",
      "\n",
      "\n",
      "\t\"We had reached Baker Street and had stopped at the door. He was searching his pockets for the key when someone passing said:\"\n",
      "\n",
      "\n",
      "\t\"I slept at Baker Street that night, and we were engaged upon our toast and coffee in the morning when the King of Bohemia rushed into the room.\"\n",
      "\n",
      "\n",
      "\t\"“I shall be at Baker Street at ten.”\"\n",
      "\n",
      "\n",
      "\t\"It was a quarter-past nine when I started from home and made my way across the Park, and so through Oxford Street to Baker Street. Two hansoms were standing at the door, and as I entered the passage I heard the sound of voices from above. On entering his room, I found Holmes in animated conversation with two men, one of whom I recognised as Peter Jones, the official police agent, while the other was a long, thin, sad-faced man, with a very shiny hat and oppressively respectable frock-coat.\"\n",
      "\n",
      "\n",
      "\t\"“You see, Watson,” he explained in the early hours of the morning as we sat over a glass of whisky and soda in Baker Street, “it was perfectly obvious from the first that the only possible object of this rather fantastic business of the advertisement of the League, and the copying of the _Encyclopædia_, must be to get this not over-bright pawnbroker out of the way for a number of hours every day. It was a curious way of managing it, but, really, it would be difficult to suggest a better. The method was no doubt suggested to Clay’s ingenious mind by the colour of his accomplice’s hair. The £ 4 a week was a lure which must draw him, and what was it to them, who were playing for thousands? They put in the advertisement, one rogue has the temporary office, the other rogue incites the man to apply for it, and together they manage to secure his absence every morning in the week. From the time that I heard of the assistant having come for half wages, it was obvious to me that he had some strong motive for securing the situation.”\"\n",
      "\n",
      "\n",
      "\t\"“My dear fellow,” said Sherlock Holmes as we sat on either side of the fire in his lodgings at Baker Street, “life is infinitely stranger than anything which the mind of man could invent. We would not dare to conceive the things which are really mere commonplaces of existence. If we could fly out of that window hand in hand, hover over this great city, gently remove the roofs, and peep in at the queer things which are going on, the strange coincidences, the plannings, the cross-purposes, the wonderful chains of events, working through generations, and leading to the most _outré_ results, it would make all fiction with its conventionalities and foreseen conclusions most stale and unprofitable.”\"\n",
      "\n",
      "\n",
      "\t\"A professional case of great gravity was engaging my own attention at the time, and the whole of next day I was busy at the bedside of the sufferer. It was not until close upon six o’clock that I found myself free and was able to spring into a hansom and drive to Baker Street, half afraid that I might be too late to assist at the _dénouement_ of the little mystery. I found Sherlock Holmes alone, however, half asleep, with his long, thin form curled up in the recesses of his armchair. A formidable array of bottles and test-tubes, with the pungent cleanly smell of hydrochloric acid, told me that he had spent his day in the chemical work which was so dear to him.\"\n",
      "\n",
      "\n",
      "\t\"It was in the latter days of September, and the equinoctial gales had set in with exceptional violence. All day the wind had screamed and the rain had beaten against the windows, so that even here in the heart of great, hand-made London we were forced to raise our minds for the instant from the routine of life and to recognise the presence of those great elemental forces which shriek at mankind through the bars of his civilisation, like untamed beasts in a cage. As evening drew in, the storm grew higher and louder, and the wind cried and sobbed like a child in the chimney. Sherlock Holmes sat moodily at one side of the fireplace cross-indexing his records of crime, while I at the other was deep in one of Clark Russell’s fine sea-stories until the howl of the gale from without seemed to blend with the text, and the splash of the rain to lengthen out into the long swash of the sea waves. My wife was on a visit to her mother’s, and for a few days I was a dweller once more in my old quarters at Baker Street.\"\n",
      "\n",
      "\n",
      "\t\"All day I was engaged in my professional work, and it was late in the evening before I returned to Baker Street. Sherlock Holmes had not come back yet. It was nearly ten o’clock before he entered, looking pale and worn. He walked up to the sideboard, and tearing a piece from the loaf he devoured it voraciously, washing it down with a long draught of water.\"\n",
      "\n",
      "\n",
      "\t\"“But why are you not conducting the case from Baker Street?” I asked.\"\n",
      "\n",
      "\n",
      "\t\"I had been delayed at a case, and it was a little after half-past six when I found myself in Baker Street once more. As I approached the house I saw a tall man in a Scotch bonnet with a coat which was buttoned up to his chin waiting outside in the bright semicircle which was thrown from the fanlight. Just as I arrived the door was opened, and we were shown up together to Holmes’ room.\"\n",
      "\n",
      "\n",
      "\t\"On glancing over my notes of the seventy odd cases in which I have during the last eight years studied the methods of my friend Sherlock Holmes, I find many tragic, some comic, a large number merely strange, but none commonplace; for, working as he did rather for the love of his art than for the acquirement of wealth, he refused to associate himself with any investigation which did not tend towards the unusual, and even the fantastic. Of all these varied cases, however, I cannot recall any which presented more singular features than that which was associated with the well-known Surrey family of the Roylotts of Stoke Moran. The events in question occurred in the early days of my association with Holmes, when we were sharing rooms as bachelors in Baker Street. It is possible that I might have placed them upon record before, but a promise of secrecy was made at the time, from which I have only been freed during the last month by the untimely death of the lady to whom the pledge was given. It is perhaps as well that the facts should now come to light, for I have reasons to know that there are widespread rumours as to the death of Dr. Grimesby Roylott which tend to make the matter even more terrible than the truth.\"\n",
      "\n",
      "\n",
      "\t\"It was in the summer of ’89, not long after my marriage, that the events occurred which I am now about to summarise. I had returned to civil practice and had finally abandoned Holmes in his Baker Street rooms, although I continually visited him and occasionally even persuaded him to forgo his Bohemian habits so far as to come and visit us. My practice had steadily increased, and as I happened to live at no very great distance from Paddington Station, I got a few patients from among the officials. One of these, whom I had cured of a painful and lingering disease, was never weary of advertising my virtues and of endeavouring to send me on every sufferer over whom he might have any influence.\"\n",
      "\n",
      "\n",
      "\t\"“Then my servant will call a cab, and I shall be with you in an instant.” I rushed upstairs, explained the matter shortly to my wife, and in five minutes was inside a hansom, driving with my new acquaintance to Baker Street.\"\n",
      "\n",
      "\n",
      "\t\"It was a few weeks before my own marriage, during the days when I was still sharing rooms with Holmes in Baker Street, that he came home from an afternoon stroll to find a letter on the table waiting for him. I had remained indoors all day, for the weather had taken a sudden turn to rain, with high autumnal winds, and the jezail bullet which I had brought back in one of my limbs as a relic of my Afghan campaign throbbed with dull persistence. With my body in one easy-chair and my legs upon another, I had surrounded myself with a cloud of newspapers until at last, saturated with the news of the day, I tossed them all aside and lay listless, watching the huge crest and monogram upon the envelope upon the table and wondering lazily who my friend’s noble correspondent could be.\"\n",
      "\n",
      "\n",
      "\t\"My friend rose lazily from his armchair and stood with his hands in the pockets of his dressing-gown, looking over my shoulder. It was a bright, crisp February morning, and the snow of the day before still lay deep upon the ground, shimmering brightly in the wintry sun. Down the centre of Baker Street it had been ploughed into a brown crumbly band by the traffic, but at either side and on the heaped-up edges of the footpaths it still lay as white as when it fell. The grey pavement had been cleaned and scraped, but was still dangerously slippery, so that there were fewer passengers than usual. Indeed, from the direction of the Metropolitan Station no one was coming save the single gentleman whose eccentric conduct had drawn my attention.\"\n",
      "\n",
      "\n",
      "\t\"“I feel that time is of value,” said he; “that is why I hastened here when the police inspector suggested that I should secure your co-operation. I came to Baker Street by the Underground and hurried from there on foot, for the cabs go slowly through this snow. That is why I was so out of breath, for I am a man who takes very little exercise. I feel better now, and I will put the facts before you as shortly and yet as clearly as I can.\"\n",
      "\n",
      "\n",
      "\t\"“If you can call upon me at my Baker Street rooms to-morrow morning between nine and ten I shall be happy to do what I can to make it clearer. I understand that you give me _carte blanche_ to act for you, provided only that I get back the gems, and that you place no limit on the sum I may draw.”\"\n",
      "\n",
      "\n",
      "\t\"It was a cold morning of the early spring, and we sat after breakfast on either side of a cheery fire in the old room at Baker Street. A thick fog rolled down between the lines of dun-coloured houses, and the opposing windows loomed like dark, shapeless blurs through the heavy yellow wreaths. Our gas was lit and shone on the white cloth and glimmer of china and metal, for the table had not been cleared yet. Sherlock Holmes had been silent all the morning, dipping continuously into the advertisement columns of a succession of papers until at last, having apparently given up his search, he had emerged in no very sweet temper to lecture me upon my literary shortcomings.\"\n",
      "\n",
      "\n",
      "\t\"“Are they not fresh and beautiful?” I cried with all the enthusiasm of a man fresh from the fogs of Baker Street.\"\n",
      "\n",
      "\n",
      "\t\"“I was driven over by my employer, who was as amiable as ever, and was introduced by him that evening to his wife and the child. There was no truth, Mr. Holmes, in the conjecture which seemed to us to be probable in your rooms at Baker Street. Mrs. Rucastle is not mad. I found her to be a silent, pale-faced woman, much younger than her husband, not more than thirty, I should think, while he can hardly be less than forty-five. From their conversation I have gathered that they have been married about seven years, that he was a widower, and that his only child by the first wife was the daughter who has gone to Philadelphia. Mr. Rucastle told me in private that the reason why she had left them was that she had an unreasoning aversion to her stepmother. As the daughter could not have been less than twenty, I can quite imagine that her position must have been uncomfortable with her father’s young wife.\"\n",
      "\n",
      "\n",
      "\t\"      It was a blazing hot day in August. Baker Street was like an       oven, and the glare of the sunlight upon the yellow brickwork of       the house across the road was painful to the eye. It was hard to       believe that these were the same walls which loomed so gloomily       through the fogs of winter. Our blinds were half-drawn, and       Holmes lay curled upon the sofa, reading and re-reading a letter       which he had received by the morning post. For myself, my term of       service in India had trained me to stand heat better than cold,       and a thermometer at ninety was no hardship. But the morning       paper was uninteresting. Parliament had risen. Everybody was out       of town, and I yearned for the glades of the New Forest or the       shingle of Southsea. A depleted bank account had caused me to       postpone my holiday, and as to my companion, neither the country       nor the sea presented the slightest attraction to him. He loved       to lie in the very centre of five millions of people, with his       filaments stretching out and running through them, responsive to       every little rumour or suspicion of unsolved crime. Appreciation       of nature found no place among his many gifts, and his only       change was when he turned his mind from the evil-doer of the town       to track down his brother of the country.\"\n",
      "\n",
      "\n",
      "\t\"      “The case,” said Sherlock Holmes as we chatted over our cigars       that night in our rooms at Baker Street, “is one where, as in the       investigations which you have chronicled under the names of ‘A       Study in Scarlet’ and of ‘The Sign of Four,’ we have been       compelled to reason backward from effects to causes. I have       written to Lestrade asking him to supply us with the details       which are now wanting, and which he will only get after he has       secured his man. That he may be safely trusted to do, for       although he is absolutely devoid of reason, he is as tenacious as       a bulldog when he once understands what he has to do, and,       indeed, it is just this tenacity which has brought him to the top       at Scotland Yard.”\"\n",
      "\n",
      "\n",
      "\t\"      One day in early spring he had so far relaxed as to go for a walk       with me in the Park, where the first faint shoots of green were       breaking out upon the elms, and the sticky spear-heads of the       chestnuts were just beginning to burst into their five-fold       leaves. For two hours we rambled about together, in silence for       the most part, as befits two men who know each other intimately.       It was nearly five before we were back in Baker Street once more.\"\n",
      "\n",
      "\n",
      "\t\"      For three months after taking over the practice I was kept very       closely at work, and saw little of my friend Sherlock Holmes, for       I was too busy to visit Baker Street, and he seldom went anywhere       himself save upon professional business. I was surprised,       therefore, when, one morning in June, as I sat reading the       _British Medical Journal_ after breakfast, I heard a ring at the       bell, followed by the high, somewhat strident tones of my old       companion’s voice.\"\n",
      "\n",
      "\n",
      "\t\"      Three days later we were back in Baker Street together; but it       was evident that my friend would be much the better for a change,       and the thought of a week of spring time in the country was full       of attractions to me also. My old friend, Colonel Hayter, who had       come under my professional care in Afghanistan, had now taken a       house near Reigate in Surrey, and had frequently asked me to come       down to him upon a visit. On the last occasion he had remarked       that if my friend would only come with me he would be glad to       extend his hospitality to him also. A little diplomacy was       needed, but when Holmes understood that the establishment was a       bachelor one, and that he would be allowed the fullest freedom,       he fell in with my plans and a week after our return from Lyons       we were under the Colonel’s roof. Hayter was a fine old soldier       who had seen much of the world, and he soon found, as I had       expected, that Holmes and he had much in common.\"\n",
      "\n",
      "\n",
      "\t\"      The official, a smart, keen-faced young fellow, stepped into the       room. “Good-morning, Colonel,” said he; “I hope I don’t intrude,       but we hear that Mr. Holmes of Baker Street is here.”\"\n",
      "\n",
      "\n",
      "\t\"      “It is very much the sort of thing that I expected,” said he. “Of       course, we do not yet know what the relations may have been       between Alec Cunningham, William Kirwan, and Annie Morrison. The       results shows that the trap was skillfully baited. I am sure that       you cannot fail to be delighted with the traces of heredity shown       in the p’s and in the tails of the g’s. The absence of the i-dots       in the old man’s writing is also most characteristic. Watson, I       think our quiet rest in the country has been a distinct success,       and I shall certainly return much invigorated to Baker Street       to-morrow.”\"\n",
      "\n",
      "\n",
      "\t\"      “You may be sure that I took some precautions. I have one of my       Baker Street boys mounting guard over him who would stick to him       like a burr, go where he might. We shall find him in Hudson       Street to-morrow, Watson, and meanwhile I should be the criminal       myself if I kept you out of bed any longer.”\"\n",
      "\n",
      "\n",
      "\t\"      I cannot be sure of the exact date, for some of my memoranda upon       the matter have been mislaid, but it must have been towards the       end of the first year during which Holmes and I shared chambers       in Baker Street. It was boisterous October weather, and we had       both remained indoors all day, I because I feared with my shaken       health to face the keen autumn wind, while he was deep in some of       those abstruse chemical investigations which absorbed him utterly       as long as he was engaged upon them. Towards evening, however,       the breaking of a test-tube brought his research to a premature       ending, and he sprang up from his chair with an exclamation of       impatience and a clouded brow.\"\n",
      "\n",
      "\n",
      "\t\"      I was weary of our little sitting-room and gladly acquiesced. For       three hours we strolled about together, watching the       ever-changing kaleidoscope of life as it ebbs and flows through       Fleet Street and the Strand. Holmes had shaken off his temporary       ill-humour, and his characteristic talk, with its keen observance       of detail and subtle power of inference held me amused and       enthralled. It was ten o’clock before we reached Baker Street       again. A brougham was waiting at our door.\"\n",
      "\n",
      "\n",
      "\t\"      We had all listened with the deepest interest to this sketch of       the night’s doings, which Holmes had deduced from signs so subtle       and minute that, even when he had pointed them out to us, we       could scarcely follow him in his reasoning. The inspector hurried       away on the instant to make inquiries about the page, while       Holmes and I returned to Baker Street for breakfast.\"\n",
      "\n",
      "\n",
      "\t\"      We had reached our house in Baker Street while we had been       talking. Holmes ascended the stair first, and as he opened the       door of our room he gave a start of surprise. Looking over his       shoulder, I was equally astonished. His brother Mycroft was       sitting smoking in the armchair.\"\n",
      "\n",
      "\n",
      "\t\"      There was something that touched me as I read this letter,       something pitiable in the reiterated appeals to bring Holmes. So       moved was I that even had it been a difficult matter I should       have tried it, but of course I knew well that Holmes loved his       art, so that he was ever as ready to bring his aid as his client       could be to receive it. My wife agreed with me that not a moment       should be lost in laying the matter before him, and so within an       hour of breakfast-time I found myself back once more in the old       rooms in Baker Street.\"\n",
      "\n",
      "\n",
      "\t\"      “£10 Reward.—The number of the cab which dropped a fare at or       about the door of the Foreign Office in Charles Street at quarter       to ten in the evening of May 23rd. Apply 221B, Baker Street.”\"\n",
      "\n",
      "\n",
      "\t\"      “There are one or two small points which I should desire to clear       up before I go,” said he. “Your absence, Mr. Phelps, will in some       ways rather assist me. Watson, when you reach London you would       oblige me by driving at once to Baker Street with our friend       here, and remaining with him until I see you again. It is       fortunate that you are old schoolfellows, as you must have much       to talk over. Mr. Phelps can have the spare bedroom to-night, and       I will be with you in time for breakfast, for there is a train       which will take me into Waterloo at eight.”\"\n",
      "\n",
      "\n",
      "\t\"      “You haven’t seen about Baker Street, then?”\"\n",
      "\n",
      "\n",
      "\t\"      “Baker Street?”\"\n",
      "\n",
      "\n",
      "\t\"“I had only one confidant--my brother Mycroft. I owe you many apologies, my dear Watson, but it was all-important that it should be thought I was dead, and it is quite certain that you would not have written so convincing an account of my unhappy end had you not yourself thought that it was true. Several times during the last three years I have taken up my pen to write to you, but always I feared lest your affectionate regard for me should tempt you to some indiscretion which would betray my secret. For that reason I turned away from you this evening when you upset my books, for I was in danger at the time, and any show of surprise and emotion upon your part might have drawn attention to my identity and led to the most deplorable and irreparable results. As to Mycroft, I had to confide in him in order to obtain the money which I needed. The course of events in London did not run so well as I had hoped, for the trial of the Moriarty gang left two of its most dangerous members, my own most vindictive enemies, at liberty. I travelled for two years in Tibet, therefore, and amused myself by visiting Lhassa and spending some days with the head Llama. You may have read of the remarkable explorations of a Norwegian named Sigerson, but I am sure that it never occurred to you that you were receiving news of your friend. I then passed through Persia, looked in at Mecca, and paid a short but interesting visit to the Khalifa at Khartoum, the results of which I have communicated to the Foreign Office. Returning to France I spent some months in a research into the coal-tar derivatives, which I conducted in a laboratory at Montpelier, in the South of France. Having concluded this to my satisfaction, and learning that only one of my enemies was now left in London, I was about to return when my movements were hastened by the news of this very remarkable Park Lane Mystery, which not only appealed to me by its own merits, but which seemed to offer some most peculiar personal opportunities. I came over at once to London, called in my own person at Baker Street, threw Mrs. Hudson into violent hysterics, and found that Mycroft had preserved my rooms and my papers exactly as they had always been. So it was, my dear Watson, that at two o'clock to-day I found myself in my old arm-chair in my own old room, and only wishing that I could have seen my old friend Watson in the other chair which he has so often adorned.”\"\n",
      "\n",
      "\n",
      "\t\"I had imagined that we were bound for Baker Street, but Holmes stopped the cab at the corner of Cavendish Square. I observed that as he stepped out he gave a most searching glance to right and left, and at every subsequent street corner he took the utmost pains to assure that he was not followed. Our route was certainly a singular one. Holmes's knowledge of the byways of London was extraordinary, and on this occasion he passed rapidly, and with an assured step, through a network of mews and stables the very existence of which I had never known. We emerged at last into a small road, lined with old, gloomy houses, which led us into Manchester Street, and so to Blandford Street. Here he turned swiftly down a narrow passage, passed through a wooden gate into a deserted yard, and then opened with a key the back door of a house. We entered together and he closed it behind us.\"\n",
      "\n",
      "\n",
      "\t\"“Surely that is Baker Street,” I answered, staring through the dim window.\"\n",
      "\n",
      "\n",
      "\t\"“The credit of the execution is due to Monsieur Oscar Meunier, of Grenoble, who spent some days in doing the moulding. It is a bust in wax. The rest I arranged myself during my visit to Baker Street this afternoon.”\"\n",
      "\n",
      "\n",
      "\t\"But suddenly I was aware of that which his keener senses had already distinguished. A low, stealthy sound came to my ears, not from the direction of Baker Street, but from the back of the very house in which we lay concealed. A door opened and shut. An instant later steps crept down the passage--steps which were meant to be silent, but which reverberated harshly through the empty house. Holmes crouched back against the wall and I did the same, my hand closing upon the handle of my revolver. Peering through the gloom, I saw the vague outline of a man, a shade blacker than the blackness of the open door. He stood for an instant, and then he crept forward, crouching, menacing, into the room. He was within three yards of us, this sinister figure, and I had braced myself to meet his spring, before I realized that he had no idea of our presence. He passed close beside us, stole over to the window, and very softly and noiselessly raised it for half a foot. As he sank to the level of this opening the light of the street, no longer dimmed by the dusty glass, fell full upon his face. The man seemed to be beside himself with excitement. His two eyes shone like stars and his features were working convulsively. He was an elderly man, with a thin, projecting nose, a high, bald forehead, and a huge grizzled moustache. An opera-hat was pushed to the back of his head, and an evening dress shirt-front gleamed out through his open overcoat. His face was gaunt and swarthy, scored with deep, savage lines. In his hand he carried what appeared to be a stick, but as he laid it down upon the floor it gave a metallic clang. Then from the pocket of his overcoat he drew a bulky object, and he busied himself in some task which ended with a loud, sharp click, as if a spring or bolt had fallen into its place. Still kneeling upon the floor he bent forward and threw all his weight and strength upon some lever, with the result that there came a long, whirling, grinding noise, ending once more in a powerful click. He straightened himself then, and I saw that what he held in his hand was a sort of gun, with a curiously misshapen butt. He opened it at the breech, put something in, and snapped the breech-block. Then, crouching down, he rested the end of the barrel upon the ledge of the open window, and I saw his long moustache droop over the stock and his eye gleam as it peered along the sights. I heard a little sigh of satisfaction as he cuddled the butt into his shoulder, and saw that amazing target, the black man on the yellow ground, standing clear at the end of his fore sight. For an instant he was rigid and motionless. Then his finger tightened on the trigger. There was a strange, loud whiz and a long, silvery tinkle of broken glass. At that instant Holmes sprang like a tiger on to the marksman's back and hurled him flat upon his face. He was up again in a moment, and with convulsive strength he seized Holmes by the throat; but I struck him on the head with the butt of my revolver and he dropped again upon the floor. I fell upon him, and as I held him my comrade blew a shrill call upon a whistle. There was the clatter of running feet upon the pavement, and two policemen in uniform, with one plain-clothes detective, rushed through the front entrance and into the room.\"\n",
      "\n",
      "\n",
      "\t\"At the time of which I speak Holmes had been back for some months, and I, at his request, had sold my practice and returned to share the old quarters in Baker Street. A young doctor, named Verner, had purchased my small Kensington practice, and given with astonishingly little demur the highest price that I ventured to ask--an incident which only explained itself some years later when I found that Verner was a distant relation of Holmes's, and that it was my friend who had really found the money.\"\n",
      "\n",
      "\n",
      "\t\"A heavy step was heard upon the stairs, and an instant later there entered a tall, ruddy, clean-shaven gentleman, whose clear eyes and florid cheeks told of a life led far from the fogs of Baker Street. He seemed to bring a whiff of his strong, fresh, bracing, east-coast air with him as he entered. Having shaken hands with each of us, he was about to sit down when his eye rested upon the paper with the curious markings, which I had just examined and left upon the table.\"\n",
      "\n",
      "\n",
      "\t\"“I think that I can help you to pass an hour in an interesting and profitable manner,” said Holmes, drawing his chair up to the table and spreading out in front of him the various papers upon which were recorded the antics of the dancing men. “As to you, friend Watson, I owe you every atonement for having allowed your natural curiosity to remain so long unsatisfied. To you, inspector, the whole incident may appeal as a remarkable professional study. I must tell you first of all the interesting circumstances connected with the previous consultations which Mr. Hilton Cubitt has had with me in Baker Street.” He then shortly recapitulated the facts which have already been recorded. “I have here in front of me these singular productions, at which one might smile had they not proved themselves to be the fore-runners of so terrible a tragedy. I am fairly familiar with all forms of secret writings, and am myself the author of a trifling monograph upon the subject, in which I analyze one hundred and sixty separate ciphers; but I confess that this is entirely new to me. The object of those who invented the system has apparently been to conceal that these characters convey a message, and to give the idea that they are the mere random sketches of children.\"\n",
      "\n",
      "\n",
      "\t\"“If you use the code which I have explained,” said Holmes, “you will find that it simply means 'Come here at once.' I was convinced that it was an invitation which he would not refuse, since he could never imagine that it could come from anyone but the lady. And so, my dear Watson, we have ended by turning the dancing men to good when they have so often been the agents of evil, and I think that I have fulfilled my promise of giving you something unusual for your note-book. Three-forty is our train, and I fancy we should be back in Baker Street for dinner.”\"\n",
      "\n",
      "\n",
      "\t\"On referring to my note-book for the year 1895 I find that it was upon Saturday, the 23rd of April, that we first heard of Miss Violet Smith. Her visit was, I remember, extremely unwelcome to Holmes, for he was immersed at the moment in a very abstruse and complicated problem concerning the peculiar persecution to which John Vincent Harden, the well-known tobacco millionaire, had been subjected. My friend, who loved above all things precision and concentration of thought, resented anything which distracted his attention from the matter in hand. And yet without a harshness which was foreign to his nature it was impossible to refuse to listen to the story of the young and beautiful woman, tall, graceful, and queenly, who presented herself at Baker Street late in the evening and implored his assistance and advice. It was vain to urge that his time was already fully occupied, for the young lady had come with the determination to tell her story, and it was evident that nothing short of force could get her out of the room until she had done so. With a resigned air and a somewhat weary smile, Holmes begged the beautiful intruder to take a seat and to inform us what it was that was troubling her.\"\n",
      "\n",
      "\n",
      "\t\"Holmes's quiet day in the country had a singular termination, for he arrived at Baker Street late in the evening with a cut lip and a discoloured lump upon his forehead, besides a general air of dissipation which would have made his own person the fitting object of a Scotland Yard investigation. He was immensely tickled by his own adventures, and laughed heartily as he recounted them.\"\n",
      "\n",
      "\n",
      "\t\"WE have had some dramatic entrances and exits upon our small stage at Baker Street, but I cannot recollect anything more sudden and startling than the first appearance of Thorneycroft Huxtable, M.A., Ph.D., etc. His card, which seemed too small to carry the weight of his academic distinctions, preceded him by a few seconds, and then he entered himself--so large, so pompous, and so dignified that he was the very embodiment of self-possession and solidity. And yet his first action when the door had closed behind him was to stagger against the table, whence he slipped down upon the floor, and there was that majestic figure prostrate and insensible upon our bearskin hearthrug.\"\n",
      "\n",
      "\n",
      "\t\"His eyes shone, and his cheek was flushed with the exhilaration of the master workman who sees his work lie ready before him. A very different Holmes, this active, alert man, from the introspective and pallid dreamer of Baker Street. I felt, as I looked upon that supple figure, alive with nervous energy, that it was indeed a strenuous day that awaited us.\"\n",
      "\n",
      "\n",
      "\t\"I HAVE never known my friend to be in better form, both mental and physical, than in the year '95. His increasing fame had brought with it an immense practice, and I should be guilty of an indiscretion if I were even to hint at the identity of some of the illustrious clients who crossed our humble threshold in Baker Street. Holmes, however, like all great artists, lived for his art's sake, and, save in the case of the Duke of Holdernesse, I have seldom known him claim any large reward for his inestimable services. So unworldly was he--or so capricious--that he frequently refused his help to the powerful and wealthy where the problem made no appeal to his sympathies, while he would devote weeks of most intense application to the affairs of some humble client whose case presented those strange and dramatic qualities which appealed to his imagination and challenged his ingenuity.\"\n",
      "\n",
      "\n",
      "\t\"Several letters were waiting for Holmes at Baker Street. He snatched one of them up, opened it, and burst out into a triumphant chuckle of laughter.\"\n",
      "\n",
      "\n",
      "\t\"Holmes had not said one word to me about the tragedy which we had witnessed, but I observed all the morning that he was in his most thoughtful mood, and he gave me the impression, from his vacant eyes and his abstracted manner, of a man who is striving to recall something to his memory. We were in the middle of our lunch when he suddenly sprang to his feet. “By Jove, Watson; I've got it!” he cried. “Take your hat! Come with me!” He hurried at his top speed down Baker Street and along Oxford Street, until we had almost reached Regent Circus. Here on the left hand there stands a shop window filled with photographs of the celebrities and beauties of the day. Holmes's eyes fixed themselves upon one of them, and following his gaze I saw the picture of a regal and stately lady in Court dress, with a high diamond tiara upon her noble head. I looked at that delicately-curved nose, at the marked eyebrows, at the straight mouth, and the strong little chin beneath it. Then I caught my breath as I read the time-honoured title of the great nobleman and statesman whose wife she had been. My eyes met those of Holmes, and he put his finger to his lips as we turned away from the window.\"\n",
      "\n",
      "\n",
      "\t\"“Don't I? Well, perhaps I don't. But I am sure that it will interest Mr. Horace Harker and the subscribers of the Central Press Syndicate. Now, Watson, I think that we shall find that we have a long and rather complex day's work before us. I should be glad, Lestrade, if you could make it convenient to meet us at Baker Street at six o'clock this evening. Until then I should like to keep this photograph found in the dead man's pocket. It is possible that I may have to ask your company and assistance upon a small expedition which will have be undertaken to-night, if my chain of reasoning should prove to be correct. Until then, good-bye and good luck!”\"\n",
      "\n",
      "\n",
      "\t\"Holmes had taken several notes during Mr. Harding's evidence, and I could see that he was thoroughly satisfied by the turn which affairs were taking. He made no remark, however, save that, unless we hurried, we should be late for our appointment with Lestrade. Sure enough, when we reached Baker Street the detective was already there, and we found him pacing up and down in a fever of impatience. His look of importance showed that his day's work had not been in vain.\"\n",
      "\n",
      "\n",
      "\t\"My friend's temper had not improved since he had been deprived of the congenial surroundings of Baker Street. Without his scrap-books, his chemicals, and his homely untidiness, he was an uncomfortable man. He shrugged his shoulders in ungracious acquiescence, while our visitor in hurried words and with much excitable gesticulation poured forth his story.\"\n",
      "\n",
      "\n",
      "\t\"It was a wild, tempestuous night towards the close of November. Holmes and I sat together in silence all the evening, he engaged with a powerful lens deciphering the remains of the original inscription upon a palimpsest, I deep in a recent treatise upon surgery. Outside the wind howled down Baker Street, while the rain beat fiercely against the windows. It was strange there in the very depths of the town, with ten miles of man's handiwork on every side of us, to feel the iron grip of Nature, and to be conscious that to the huge elemental forces all London was no more than the molehills that dot the fields. I walked to the window and looked out on the deserted street. The occasional lamps gleamed on the expanse of muddy road and shining pavement. A single cab was splashing its way from the Oxford Street end.\"\n",
      "\n",
      "\n",
      "\t\"WE were fairly accustomed to receive weird telegrams at Baker Street, but I have a particular recollection of one which reached us on a gloomy February morning some seven or eight years ago and gave Mr. Sherlock Holmes a puzzled quarter of an hour. It was addressed to him, and ran thus:--\"\n",
      "\n",
      "\n",
      "\t\"His record was magnificent. There was not an officer in the fleet to touch him. As to his character, he was reliable on duty, but a wild, desperate fellow off the deck of his ship, hot-headed, excitable, but loyal, honest, and kind-hearted. That was the pith of the information with which Holmes left the office of the Adelaide-Southampton company. Thence he drove to Scotland Yard, but instead of entering he sat in his cab with his brows drawn down, lost in profound thought. Finally he drove round to the Charing Cross telegraph office, sent off a message, and then, at last, we made for Baker Street once more.\"\n",
      "\n",
      "\n",
      "\t\"It was, then, in a year, and even in a decade, that shall be nameless, that upon one Tuesday morning in autumn we found two visitors of European fame within the walls of our humble room in Baker Street. The one, austere, high-nosed, eagle-eyed, and dominant, was none other than the illustrious Lord Bellinger, twice Premier of Britain. The other, dark, clear-cut, and elegant, hardly yet of middle age, and endowed with every beauty of body and of mind, was the Right Honourable Trelawney Hope, Secretary for European Affairs, and the most rising statesman in the country. They sat side by side upon our paper-littered settee, and it was easy to see from their worn and anxious faces that it was business of the most pressing importance which had brought them. The Premier's thin, blue-veined hands were clasped tightly over the ivory head of his umbrella, and his gaunt, ascetic face looked gloomily from Holmes to me. The European Secretary pulled nervously at his moustache and fidgeted with the seals of his watch-chain.\"\n",
      "\n",
      "\n",
      "\t\"In the third week of November, in the year 1895, a dense yellow fog settled down upon London. From the Monday to the Thursday I doubt whether it was ever possible from our windows in Baker Street to see the loom of the opposite houses. The first day Holmes had spent in cross-indexing his huge book of references. The second and third had been patiently occupied upon a subject which he had recently made his hobby—the music of the Middle Ages. But when, for the fourth time, after pushing back our chairs from breakfast we saw the greasy, heavy brown swirl still drifting past us and condensing in oily drops upon the window-panes, my comrade’s impatient and active nature could endure this drab existence no longer. He paced restlessly about our sitting-room in a fever of suppressed energy, biting his nails, tapping the furniture, and chafing against inaction.\"\n",
      "\n",
      "\n",
      "\t\"See some light in the darkness, but it may possibly flicker out. Meanwhile, please send by messenger, to await return at Baker Street, a complete list of all foreign spies or international agents known to be in England, with full address.—Sherlock.\"\n",
      "\n",
      "\n",
      "\t\"Surely enough, a note awaited us at Baker Street. A government messenger had brought it post-haste. Holmes glanced at it and threw it over to me.\"\n",
      "\n",
      "\n",
      "\t\"A telegram was awaiting us when we reached our Baker Street rooms, which Holmes read with an exclamation of interest and threw across to me. “Jagged or torn,” was the message, and the place of origin, Baden.\"\n",
      "\n",
      "\n",
      "\t\"Five minutes had not passed before we were flying in a hansom down Baker Street. But even so it was twenty-five to eight as we passed Big Ben, and eight struck as we tore down the Brixton Road. But others were late as well as we. Ten minutes after the hour the hearse was still standing at the door of the house, and even as our foaming horse came to a halt the coffin, supported by three men, appeared on the threshold. Holmes darted forward and barred their way.\"\n",
      "\n",
      "\n"
     ]
    },
    {
     "name": "stdout",
     "output_type": "stream",
     "text": [
      "Enter phrase to search: exit()\n"
     ]
    }
   ],
   "source": [
    "#get phrase to search\n",
    "phrase=input(\"Enter phrase to search: \")\n",
    "while(phrase!=\"exit()\"):\n",
    "    #create an empty list for quotes\n",
    "    quotes=[]\n",
    "    for i in range(0,len(books)):\n",
    "        #lowercase to allow search\n",
    "        search=text[i].lower()\n",
    "        #find how many times the phrase appears\n",
    "        count=search.count(phrase.lower())\n",
    "        #run quote searcher if it appears\n",
    "        if(count!=0):\n",
    "            #set initial location to -10\n",
    "            loc=-10\n",
    "            #run while phrase is still in book\n",
    "            while(loc<len(text[i])):\n",
    "                #find index of first word\n",
    "                loc=search.find(phrase.lower(),(loc+10))\n",
    "                #initialise start of text and end of text variables\n",
    "                start=loc-1\n",
    "                end=loc+1\n",
    "                if(loc==(-1)):\n",
    "                    #if the phrase \n",
    "                    break\n",
    "                else:\n",
    "                    #search for the paragraph start\n",
    "                    while(search.find(\"\\n\\n\",start,loc)==-1):\n",
    "                        start=start-1\n",
    "                    #same for the end\n",
    "                    while(search.find(\"\\n\\n\",loc,end)==-1):\n",
    "                        end=end+1\n",
    "                    #then, add paragraphs\n",
    "                    quotes.append(text[i][(start+2):(end-2)].replace(\"\\n\",\" \"))\n",
    "    #loop for each quote\n",
    "    for i in range(0,len(quotes)):\n",
    "        #print out quote\n",
    "        print(\"\\t\\\"\"+quotes[i]+\"\\\"\\n\\n\")\n",
    "    #get phrase to search\n",
    "    phrase=input(\"Enter phrase to search: \")"
   ]
  },
  {
   "cell_type": "markdown",
   "metadata": {},
   "source": [
    "For more common words, Python begins to struggle. For example, enter \"the\"! However, it is a useful tool to select words and phrases from Doyle's Sherlock Holmes books, and returns some interesting results."
   ]
  },
  {
   "cell_type": "markdown",
   "metadata": {},
   "source": [
    "## What if I want to search another book?\n",
    "Our scripts can be adapted to search other books, provided these are ```.txt``` files. Links to these books are available on websites such as <a href=\"https://www.gutenberg.org\">Project Gutenberg</a>. We use \"A Tale of Two Cities\", by Charles Dickens, accessible in text format at ```https://www.gutenberg.org/files/98/98-0.txt```."
   ]
  },
  {
   "cell_type": "code",
   "execution_count": 10,
   "metadata": {},
   "outputs": [
    {
     "name": "stdout",
     "output_type": "stream",
     "text": [
      "Enter URL of file: https://www.gutenberg.org/files/98/98-0.txt\n",
      "\n",
      "Enter phrase to search: Paris\n",
      "The number of times the phrase \"Paris\" appears is 70.\n",
      "\n",
      "Enter phrase to search: London\n",
      "The number of times the phrase \"London\" appears is 28.\n",
      "\n",
      "Enter phrase to search: exit()\n"
     ]
    }
   ],
   "source": [
    "#get path to file\n",
    "file=input(\"Enter URL of file: \")\n",
    "text=urllib.request.urlopen(file).read().decode(\"utf-8\")\n",
    "#get phrase to search\n",
    "phrase=input(\"\\nEnter phrase to search: \")\n",
    "while(phrase!=\"exit()\"):\n",
    "    #set initial count to 0\n",
    "    count=0\n",
    "    #lowercase to allow search\n",
    "    search=text.lower()\n",
    "    #add the number of times the phrase appears\n",
    "    count=count+search.count(phrase.lower())\n",
    "    print(\"The number of times the phrase \\\"\"+phrase+\"\\\" appears is \"+str(count)+\".\\n\")\n",
    "    #get phrase to search again\n",
    "    phrase=input(\"Enter phrase to search: \")"
   ]
  },
  {
   "cell_type": "markdown",
   "metadata": {},
   "source": [
    "We can apply our search script to any text file now! This was just a short, and hopefully fun, exercise to complete to see if we could debunk the association of Sherlock Holmes with elementary. I hope you found it interesting!"
   ]
  }
 ],
 "metadata": {
  "kernelspec": {
   "display_name": "Python 3",
   "language": "python",
   "name": "python3"
  },
  "language_info": {
   "codemirror_mode": {
    "name": "ipython",
    "version": 3
   },
   "file_extension": ".py",
   "mimetype": "text/x-python",
   "name": "python",
   "nbconvert_exporter": "python",
   "pygments_lexer": "ipython3",
   "version": "3.7.4"
  }
 },
 "nbformat": 4,
 "nbformat_minor": 2
}
