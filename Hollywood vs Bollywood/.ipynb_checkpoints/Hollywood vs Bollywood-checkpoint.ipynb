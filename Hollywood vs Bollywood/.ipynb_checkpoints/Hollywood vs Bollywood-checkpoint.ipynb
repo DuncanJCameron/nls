{
 "cells": [
  {
   "cell_type": "code",
   "execution_count": 1,
   "metadata": {},
   "outputs": [],
   "source": [
    "#import required libraries\n",
    "library(jsonlite)\n",
    "#reduce size of plots\n",
    "options(repr.plot.res = 80)"
   ]
  },
  {
   "cell_type": "markdown",
   "metadata": {},
   "source": [
    "# Are Bollywood films longer than Hollywood films?\n",
    "Given the comments of a film reviewer that Bollywood films are sometimes too long, we set out to investigate the difference between the lengths."
   ]
  },
  {
   "cell_type": "markdown",
   "metadata": {},
   "source": [
    "## What are our hypotheses?\n",
    "We set out hypotheses, where $\\mu_H$ is the average length of a sample of Hollywood films, and $\\mu_B$ is the average length of the Bollywood film sample:\\\n",
    "$\\text{H}_0: \\mu_H=\\mu_B$\\\n",
    "$\\text{H}_1: \\mu_H<\\mu_B$\\\n",
    "If $\\text{H}_0$ is rejected, we can show there is a difference in the lengths of Hollywood and Bollywood films."
   ]
  },
  {
   "cell_type": "markdown",
   "metadata": {},
   "source": [
    "## What data do we use?\n",
    "We need to ensure fair and accurate reflections of the categories. The criteria used were:\n",
    "- they had a release date in 2015, 2016, 2017, 2018, or 2019\n",
    "- they were in the top 10 highest grossing films of that category for their release year\n",
    "\n",
    "The rationale behind the selection of this data is that interest in films is for the same reasons worldwide, and that revenue at box office is a way of directly measuring interest. The Hollywood films can be viewed <a href=\"https://www.themoviedb.org/list/138881\">here</a>, and the Bollywood films can be viewed <a href=\"https://www.themoviedb.org/list/138884\">here</a>, with the exception of *Sultan*, which is accomodated for later."
   ]
  },
  {
   "cell_type": "markdown",
   "metadata": {},
   "source": [
    "## Where do we get the data?\n",
    "We fetch the data from The Movie Database (TMDb) using their Application Programming Interface (API). We store the links to the files for each list as vectors in **R**."
   ]
  },
  {
   "cell_type": "code",
   "execution_count": 2,
   "metadata": {},
   "outputs": [],
   "source": [
    "hollywood_file=\"https://api.themoviedb.org/3/list/138881?api_key=8e2981306aaa0d1218f9fbf7165f99d8&language=en-US\"\n",
    "bollywood_file=\"https://api.themoviedb.org/3/list/138884?api_key=8e2981306aaa0d1218f9fbf7165f99d8&language=en-US\""
   ]
  },
  {
   "cell_type": "markdown",
   "metadata": {},
   "source": [
    "We then query the API using the links to obtain the TMBb IDs of the films in our list, and select the data we want to use."
   ]
  },
  {
   "cell_type": "code",
   "execution_count": 3,
   "metadata": {},
   "outputs": [],
   "source": [
    "#fetch Hollywood films\n",
    "hollywood <- fromJSON(hollywood_file,flatten=TRUE)\n",
    "hollywood_list <- hollywood['items']\n",
    "#fetch Bollywood films\n",
    "bollywood <- fromJSON(bollywood_file,flatten=TRUE)\n",
    "bollywood_list <- bollywood['items']"
   ]
  },
  {
   "cell_type": "markdown",
   "metadata": {},
   "source": [
    "We then query the API for the runtime of each film, selecting it and storing it in vectors in **R**, this being the raw data used to perform our hypothesis tests."
   ]
  },
  {
   "cell_type": "code",
   "execution_count": 4,
   "metadata": {},
   "outputs": [],
   "source": [
    "#create vectors of length 50\n",
    "hollywood_runtime=rep(1:50)\n",
    "bollywood_runtime=rep(1:50)"
   ]
  },
  {
   "cell_type": "code",
   "execution_count": 5,
   "metadata": {},
   "outputs": [],
   "source": [
    "#fetch Hollywood runtimes\n",
    "for(i in 1:50){\n",
    "  id=hollywood_list[[\"items\"]][[\"id\"]][[i]]\n",
    "  json <- fromJSON(paste(\"https://api.themoviedb.org/3/movie/\",id,\"?api_key=8e2981306aaa0d1218f9fbf7165f99d8&language=en-US\"),flatten=TRUE)\n",
    "  hollywood_runtime[i]=json['runtime']\n",
    "}\n",
    "#fetch Bollywood runtimes, adjusting for Sultan\n",
    "for(i in 1:49){\n",
    "  id=bollywood_list[[\"items\"]][[\"id\"]][[i]]\n",
    "  json <- fromJSON(paste(\"https://api.themoviedb.org/3/movie/\",id,\"?api_key=8e2981306aaa0d1218f9fbf7165f99d8&language=en-US\"),flatten=TRUE)\n",
    "  bollywood_runtime[i]=json['runtime']\n",
    "}\n",
    "#we have independently verified the Sultan runtime as 170 minutes, so we add in\n",
    "bollywood_runtime[50]=170"
   ]
  },
  {
   "cell_type": "code",
   "execution_count": 6,
   "metadata": {},
   "outputs": [],
   "source": [
    "#convert the vectors to numerics, so standard R methods can be applied\n",
    "hollywood_runtime=as.numeric(hollywood_runtime)\n",
    "bollywood_runtime=as.numeric(bollywood_runtime)"
   ]
  },
  {
   "cell_type": "markdown",
   "metadata": {},
   "source": [
    "## Are our assumptions correct?\n",
    "Before we perform our hypothesis tests, we must check the assumptions we have make during those tests are correct. The main assumption we make for this project is the two samples approach a normal distribution, that is the Central Limit Theorem applies.\\\n",
    "This can be checked using a histogram and a Q-Q plot of normal quantiles."
   ]
  },
  {
   "cell_type": "code",
   "execution_count": 7,
   "metadata": {},
   "outputs": [],
   "source": [
    "#standardise breaks for histograms\n",
    "breaks=c(80,90,100,110,120,130,140,150,160,170,180,190)"
   ]
  },
  {
   "cell_type": "code",
   "execution_count": 8,
   "metadata": {},
   "outputs": [
    {
     "data": {
      "image/png": "[encoded data removed]",
      "text/plain": [
       "Plot with title \"Histogram of Runtimes of Hollywood Movies\""
      ]
     },
     "metadata": {},
     "output_type": "display_data"
    },
    {
     "data": {
      "image/png": "[encoded data removed]",
      "text/plain": [
       "Plot with title \"Normal Q-Q Plot of Runtimes of Hollywood Movies\""
      ]
     },
     "metadata": {},
     "output_type": "display_data"
    }
   ],
   "source": [
    "#plots for Hollywood films\n",
    "hist(hollywood_runtime,breaks=breaks,main=\"Histogram of Runtimes of Hollywood Movies\",xlab=\"Runtime\")\n",
    "qqnorm(hollywood_runtime,main=\"Normal Q-Q Plot of Runtimes of Hollywood Movies\")"
   ]
  },
  {
   "cell_type": "code",
   "execution_count": 9,
   "metadata": {},
   "outputs": [
    {
     "data": {
      "image/png": "[encoded data removed]",
      "text/plain": [
       "Plot with title \"Histogram of Runtimes of Bollywood Movies\""
      ]
     },
     "metadata": {},
     "output_type": "display_data"
    },
    {
     "data": {
      "image/png": "[encoded data removed]",
      "text/plain": [
       "Plot with title \"Normal Q-Q Plot of Runtimes of Bollywood Movies\""
      ]
     },
     "metadata": {},
     "output_type": "display_data"
    }
   ],
   "source": [
    "#plots for Bollywood films\n",
    "hist(bollywood_runtime,breaks=breaks,main=\"Histogram of Runtimes of Bollywood Movies\",xlab=\"Runtime\")\n",
    "qqnorm(bollywood_runtime,main=\"Normal Q-Q Plot of Runtimes of Bollywood Movies\")"
   ]
  },
  {
   "cell_type": "markdown",
   "metadata": {},
   "source": [
    "We note that both histograms show a distinctive bell curve, and the Q-Q plot approaches a straight line. These are both indicators that the Central Limit Theorem is at work, and therefore our assumptions are justified. We note an outlier in the Hollywood films, that may result in convergence of means, and keep this in mind for our hypothesis test."
   ]
  },
  {
   "cell_type": "markdown",
   "metadata": {},
   "source": [
    "## How do we reject $\\text{H}_0$?\n",
    "We identify the 95% and 99% confidence intervals using the test statistic:\n",
    "$$\\frac{(\\bar{X}_H-\\bar{X}_B)-(\\mu_H-\\mu_B)}{\\sqrt{\\frac{\\sigma_H^2}{n}+\\frac{\\sigma_B^2}{n}}} \\sim N(0,1)$$\n",
    "We can reject $\\text{H}_0$ if the test statistic is outside the 95% and 99% confidence intervals of the $N(0,1)$ distribution. If both are rejected, we can be 99% sure that it is not plausible the means are equal.\\\n",
    "We calculate the mean and variance of the two samples in **R**, and use these to calculate the value of test statistic. Note that as $n$ is large, $\\sigma^2=s^2$."
   ]
  },
  {
   "cell_type": "code",
   "execution_count": 10,
   "metadata": {},
   "outputs": [],
   "source": [
    "mh=mean(hollywood_runtime)\n",
    "vh=var(hollywood_runtime)\n",
    "mb=mean(bollywood_runtime)\n",
    "vb=var(bollywood_runtime)"
   ]
  },
  {
   "cell_type": "code",
   "execution_count": 11,
   "metadata": {},
   "outputs": [
    {
     "data": {
      "text/html": [
       "-7.25716890471891"
      ],
      "text/latex": [
       "-7.25716890471891"
      ],
      "text/markdown": [
       "-7.25716890471891"
      ],
      "text/plain": [
       "[1] -7.257169"
      ]
     },
     "metadata": {},
     "output_type": "display_data"
    }
   ],
   "source": [
    "#calculate test statistic, noting the difference between the means is 0\n",
    "t=(mh-mb)/(sqrt((vh/length(hollywood_runtime))+(vb/length(bollywood_runtime))))\n",
    "t"
   ]
  },
  {
   "cell_type": "markdown",
   "metadata": {},
   "source": [
    "We obtain our test statistic, and then compare this to the 95% and 99% confidence intervals."
   ]
  },
  {
   "cell_type": "code",
   "execution_count": 14,
   "metadata": {},
   "outputs": [
    {
     "data": {
      "text/html": [
       "-1.95996398454005"
      ],
      "text/latex": [
       "-1.95996398454005"
      ],
      "text/markdown": [
       "-1.95996398454005"
      ],
      "text/plain": [
       "[1] -1.959964"
      ]
     },
     "metadata": {},
     "output_type": "display_data"
    },
    {
     "data": {
      "text/html": [
       "1.95996398454005"
      ],
      "text/latex": [
       "1.95996398454005"
      ],
      "text/markdown": [
       "1.95996398454005"
      ],
      "text/plain": [
       "[1] 1.959964"
      ]
     },
     "metadata": {},
     "output_type": "display_data"
    }
   ],
   "source": [
    "#find the lower and upper quantiles at 95%\n",
    "qnorm(0.025,0,1)\n",
    "qnorm(0.975,0,1)"
   ]
  },
  {
   "cell_type": "markdown",
   "metadata": {},
   "source": [
    "We obtain a 95% confidence interval of (−1.959964,1.959964). Clearly, *t* is outwith this range, so we reject $\\text{H}_0$."
   ]
  },
  {
   "cell_type": "code",
   "execution_count": 16,
   "metadata": {},
   "outputs": [
    {
     "data": {
      "text/html": [
       "-2.5758293035489"
      ],
      "text/latex": [
       "-2.5758293035489"
      ],
      "text/markdown": [
       "-2.5758293035489"
      ],
      "text/plain": [
       "[1] -2.575829"
      ]
     },
     "metadata": {},
     "output_type": "display_data"
    },
    {
     "data": {
      "text/html": [
       "2.5758293035489"
      ],
      "text/latex": [
       "2.5758293035489"
      ],
      "text/markdown": [
       "2.5758293035489"
      ],
      "text/plain": [
       "[1] 2.575829"
      ]
     },
     "metadata": {},
     "output_type": "display_data"
    }
   ],
   "source": [
    "#find the lower and upper quantiles at 99%\n",
    "qnorm(0.005,0,1)\n",
    "qnorm(0.995,0,1)"
   ]
  },
  {
   "cell_type": "markdown",
   "metadata": {},
   "source": [
    "We obtain a 95% confidence interval of (−2.575829,2.575829). Clearly, *t* is also outwith this range, so we reject $\\text{H}_0$. Therefore, we can say that we are 99% confident it is not plausible for the means to be equal."
   ]
  },
  {
   "cell_type": "markdown",
   "metadata": {},
   "source": [
    "## How do we accept $\\text{H}_1$?\n",
    "Now we have rejected $\\text{H}_0$, we look to show that $\\text{H}_1$, our alternative hypothesis, is correct. We can run a one sided *t-test* in **R**, and inspect the p-value.\\\n",
    "The p-value is a method of measuring the probability of achieving the same sample if the null hypothesis, $\\text{H}_0$ is correct. A low p-value indicates that we should reject $\\text{H}_0$ in favour of $\\text{H}_1$."
   ]
  },
  {
   "cell_type": "code",
   "execution_count": 17,
   "metadata": {},
   "outputs": [
    {
     "data": {
      "text/plain": [
       "\n",
       "\tWelch Two Sample t-test\n",
       "\n",
       "data:  hollywood_runtime and bollywood_runtime\n",
       "t = -7.2572, df = 91.29, p-value = 6.327e-11\n",
       "alternative hypothesis: true difference in means is less than 0\n",
       "95 percent confidence interval:\n",
       "      -Inf -19.21392\n",
       "sample estimates:\n",
       "mean of x mean of y \n",
       "   125.50    150.42 \n"
      ]
     },
     "metadata": {},
     "output_type": "display_data"
    },
    {
     "data": {
      "text/plain": [
       "\n",
       "\tWelch Two Sample t-test\n",
       "\n",
       "data:  hollywood_runtime and bollywood_runtime\n",
       "t = -7.2572, df = 91.29, p-value = 6.327e-11\n",
       "alternative hypothesis: true difference in means is less than 0\n",
       "99 percent confidence interval:\n",
       "      -Inf -16.78902\n",
       "sample estimates:\n",
       "mean of x mean of y \n",
       "   125.50    150.42 \n"
      ]
     },
     "metadata": {},
     "output_type": "display_data"
    }
   ],
   "source": [
    "#run a t-test at the default level of 95%\n",
    "t.test(hollywood_runtime,bollywood_runtime,alternative=\"l\")\n",
    "#also run a t-test at the 99% level\n",
    "t.test(hollywood_runtime,bollywood_runtime,alternative=\"l\",conf.level=0.99)"
   ]
  },
  {
   "cell_type": "markdown",
   "metadata": {},
   "source": [
    "We can see that in both tests we receive a p-value of $6.327\\times10^{-11}$, giving us a very strong reason to accept $\\text{H}_1$, which gives that Bollywood films are longer than Hollywood films."
   ]
  },
  {
   "cell_type": "markdown",
   "metadata": {},
   "source": [
    "## What is our conclusion?\n",
    "We conclude that Bollywood films are indeed longer than Hollywood films. Despite the outliers that may have caused convergence, we have reason to reject the null hypothesis and obtain that we are 99% confident that Bollywood films are longer."
   ]
  },
  {
   "cell_type": "markdown",
   "metadata": {},
   "source": [
    "## Where can I find out more about this project?\n",
    "This project was initially undertaken as part of a project for a statistics course at Heriot-Watt University, in the Department of Actuarial Mathematics and Statistics. The course also counts as part of the exemption criteria for the CS1 exam from the Institute and Faculty of Actuaries. A PDF report was generated using LaTeX and submitted, and this can be found on <a href=\"https://www.github.com/DuncanJCameron/nls\">GitHub</a>, it contains more information about the "
   ]
  }
 ],
 "metadata": {
  "kernelspec": {
   "display_name": "R",
   "language": "R",
   "name": "ir"
  },
  "language_info": {
   "codemirror_mode": "r",
   "file_extension": ".r",
   "mimetype": "text/x-r-source",
   "name": "R",
   "pygments_lexer": "r",
   "version": "3.6.1"
  }
 },
 "nbformat": 4,
 "nbformat_minor": 2
}
